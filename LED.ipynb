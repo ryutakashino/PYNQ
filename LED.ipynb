{
 "cells": [
  {
   "cell_type": "markdown",
   "metadata": {},
   "source": [
    "## LED点灯を題材にどのようにしてPS(Linux)側からPL(FPGA)側へと指示を出しているかを調べたノートブックです。  \n",
    "In[2], In[3], In[5]は全て同じ、LED0とLED１は光らせ、LED2とLED3は消すプログラムです。  書き方を変えているだけです。"
   ]
  },
  {
   "cell_type": "code",
   "execution_count": 1,
   "metadata": {
    "collapsed": true
   },
   "outputs": [],
   "source": [
    "#デフォルト回路の読み込み\n",
    "from pynq import Overlay\n",
    "# load Base Overlay\n",
    "Overlay(\"/home/xilinx/pynq/bitstream/base.bit\").download()"
   ]
  },
  {
   "cell_type": "markdown",
   "metadata": {},
   "source": [
    "### LEDクラスを使うことで簡単にLEDを操作することが出来る。"
   ]
  },
  {
   "cell_type": "code",
   "execution_count": 2,
   "metadata": {
    "collapsed": false
   },
   "outputs": [],
   "source": [
    "from pynq.board import LED#PYNQ上の\"xilinx/pynq/board/led.py\"にある。\n",
    "led0 = LED(0)\n",
    "led1 = LED(1)\n",
    "led2 = LED(2)\n",
    "led3 = LED(3)\n",
    "\n",
    "led0.on()\n",
    "led1.on()\n",
    "led2.off()\n",
    "led3.off()"
   ]
  },
  {
   "cell_type": "markdown",
   "metadata": {},
   "source": [
    "### led.py中身をとりだし、LEDクラスを用いずにLEDを点灯させてみる。\n",
    "コードは以下のようになる。"
   ]
  },
  {
   "cell_type": "code",
   "execution_count": 3,
   "metadata": {
    "collapsed": false
   },
   "outputs": [],
   "source": [
    "from pynq import MMIO#メモリ操作のためのクラス(PYNQ上の\"xilinx/pynq/mmio.py”にある。)\n",
    "from pynq import PL#回路情報の取得のためのクラス(PYNQ上の\"xilinx/pynq/pl.py\"にある。)\n",
    "\n",
    "LEDS_OFFSET0 = 0x8\n",
    "LEDS_OFFSET1 = 0xC#12\n",
    "led = MMIO(int(PL.ip_dict[\"SEG_swsleds_gpio_Reg\"][0],16),16)\n",
    "#　PL.ip_dict[\"SEG_swsleds_gpio_Reg\"]で回路の情報を取得する事ができる。今回は\"SEG_swsleds_gpio_Reg\"に対応するベースアドレスを取得している。\n",
    "#　MMIOはデバイスファイル/dev/memを書き換えるための関数である。\n",
    "\n",
    "led.write(LEDS_OFFSET1, 0x0)\n",
    "led.write(LEDS_OFFSET0, 0B0011) #0B(led3)(led2)(led1)(led0) メモリの特定のアドレスにLEDの状態を書き込む"
   ]
  },
  {
   "cell_type": "markdown",
   "metadata": {},
   "source": [
    "PL.ip_dictについて詳しく見てみる。"
   ]
  },
  {
   "cell_type": "code",
   "execution_count": 4,
   "metadata": {
    "collapsed": false
   },
   "outputs": [
    {
     "data": {
      "text/plain": [
       "['0x41200000', '0x00010000', None]"
      ]
     },
     "execution_count": 4,
     "metadata": {},
     "output_type": "execute_result"
    }
   ],
   "source": [
    "#ip_dictは辞書。使用するピンの名前(SEG_swsleds_gpio_Reg)と\n",
    "#対応するメモリの情報(['0x41200000', '0x00010000', None])がセットになっている\n",
    "from pynq import PL\n",
    "PL.ip_dict[\"SEG_swsleds_gpio_Reg\"]"
   ]
  },
  {
   "cell_type": "markdown",
   "metadata": {},
   "source": [
    "PYNQではbitファイルの読み込みとともに、tclファイルの情報を解析し、ip_dictという名前の辞書が作成される。回路名とそのアドレス、オフセット、状態(デフォルトはNone)が一つにまとまっており、回路の名前からアドレスやその他の情報を調べることが出来る。  \n",
    "公式ドキュメント  \n",
    "http://pynq.readthedocs.io/en/latest/16_creating_overlays.html  "
   ]
  },
  {
   "cell_type": "markdown",
   "metadata": {},
   "source": [
    "以下は\"xilinx/pynq/bitstream/base.tcl\"の一部を切り取り、並び替えたもの\n",
    "```tcl\n",
    "3136   create_bd_addr_seg -range 0x00010000 -offset 0x41200000 [get_bd_addr_spaces processing     _system7_0/Data] [get_bd_addr_segs swsleds_g     pio/S_AXI/Reg] SEG_swsleds_gpio_Reg\n",
    "...\n",
    "3129   create_bd_addr_seg -range 0x00010000 -offs et 0x41210000 [get_bd_addr_spaces processing     _system7_0/Data] [get_bd_addr_segs btns_gpio     /S_AXI/Reg] SEG_btns_gpio_Reg\n",
    "...\n",
    "3127   create_bd_addr_seg -range 0x00010000 -offset 0x41220000 [get_bd_addr_spaces processing     _system7_0/Data] [get_bd_addr_segs video/axi     _gpio_video/S_AXI/Reg] SEG_axi_gpio_video_Reg\n",
    "...\n",
    "```\n",
    "tclファイルはbitファイルと合わせて生成される。PL回路の情報を含むファイル。"
   ]
  },
  {
   "cell_type": "markdown",
   "metadata": {},
   "source": [
    "### さらにmmio.pyの中身を取り出し、MMIOクラスを使わずにLEDの操作をするコードをつくる。"
   ]
  },
  {
   "cell_type": "code",
   "execution_count": 5,
   "metadata": {
    "collapsed": false
   },
   "outputs": [],
   "source": [
    "#　led.write(LEDS_OFFSET0, 0B0011) の中身\n",
    "#以下general_const.pyにて定義されている変数群\n",
    "# MMIO constants\n",
    "MMIO_FILE_NAME = '/dev/mem'#デバイスファイルの場所\n",
    "MMIO_WORD_LENGTH = 4\n",
    "MMIO_WORD_MASK = ~(MMIO_WORD_LENGTH - 1) \n",
    "#mmio.pyの中ではfrom . import general_constatとして上記の変数を読み込んでいる\n",
    "\n",
    "import os\n",
    "import mmap\n",
    "import struct\n",
    "length = 16\n",
    "base_addr = int('0x41200000',16) #このアドレスは既知のものとする。\n",
    "virt_base = base_addr & ~(mmap.PAGESIZE - 1)\n",
    "virt_offset = base_addr - virt_base\n",
    "\n",
    "f = os.open(MMIO_FILE_NAME, os.O_RDWR | os.O_SYNC)\n",
    "mem = mmap.mmap(f, (length + virt_offset), \n",
    "                            mmap.MAP_SHARED, \n",
    "                            mmap.PROT_READ | mmap.PROT_WRITE,\n",
    "                            offset = virt_base)\n",
    "offset = 0x8#LEDS_OFFSET0\n",
    "data = 0B0011#0B(led3)(led2)(led1)(led0)LEDの状態\n",
    "mem.seek((virt_offset + offset) & MMIO_WORD_MASK)#Set the file’s current position. \n",
    "mem.write(struct.pack('I', data)) # I:unsigned int\n"
   ]
  },
  {
   "cell_type": "markdown",
   "metadata": {
    "collapsed": false
   },
   "source": [
    "mmapに関するメモ\n",
    ">Linuxでは、/dev/memというスペシャルファイルを経由して、メモリ空間の任意の物理アドレスにアクセスできるからです。...Linuxのメモリ空間は仮想メモリ空間なので、...mmapという関数を使ってマップしてやる必要があります。\n",
    "http://d.hatena.ne.jp/ymko/20130904/p1\n",
    "http://www.mech.tohoku-gakuin.ac.jp/rde/contents/linux/drivers/nodriver.html"
   ]
  },
  {
   "cell_type": "markdown",
   "metadata": {
    "collapsed": true
   },
   "source": [
    "## まとめ\n",
    "メモリを介してPSとPLがつながっていることがわかった。  また、bitファイルが回路を読み込むために用いられ、tclファイルはPythonがbitファイルの回路を解析するために用いられることがわかった。  \n",
    "これまでの一連の流れを図にしてみた。\n",
    "![](./LED.png)\n",
    "##### 参考にした方のブログから引用\n",
    ">FPGAの制御（FPGAのレジスタへの書き込み）はmmio.pyのMMIOクラスを使って、/dev/memデバイスファイル経由でメモリー空間にマップされたFPGAのレジスタにアクセスしているようです。  \n",
    "http://todotani.cocolog-nifty.com/blog/2017/01/pynq-z1overlayp.html"
   ]
  },
  {
   "cell_type": "markdown",
   "metadata": {
    "collapsed": true
   },
   "source": [
    "#### PYNQコミッターもこのように書いています。\n",
    ">What is an overlay? The overlay is a design that’s loaded into the Zynq SoC’s programmable logic (PL). The overlay can be designed to accelerate a function in the programmable logic or provide an interfacing capability using the PL. In short, overlays give Pynq its, unique capabilities.\n",
    " \n",
    ">What is important to understand about the overlay is that** there is not a Python-to-PL high-level synthesis process involved.** Instead, we develop the overlay using one of the standard Xilinx design methodologies (SDSoC, Vivado, or Vivado HLS). Once we’ve created the bit file for the overlay, we then integrate it within the Pynq architecture and establish the required parameters to communicate with it using Python.\n",
    "\n",
    ">Like all things with the Zynq SoC that we have looked at to date, this is very simple. We can easily integrate with the Python environment using the bit file and other files provided with the Vivado build.** We do this with the Python MMIO class, which allows us to interact with designs in the PL through memory-mapped reads and writes. ** The memory map of the current overlay in the PL is all we need. Of course, we can change the contents of the PL on the fly as our application requires to accelerate functions in the PL.\n",
    "https://forums.xilinx.com/t5/Xcell-Daily-Blog/Adam-Taylor-s-MicroZed-Chronicles-Part-156-Pynq-Hardware/ba-p/732835"
   ]
  },
  {
   "cell_type": "markdown",
   "metadata": {
    "collapsed": true
   },
   "source": [
    "### 参考  \n",
    "http://todotani.cocolog-nifty.com/blog/2017/01/pynq-z1overlayp.html  \n",
    "https://forums.xilinx.com/t5/Xcell-Daily-Blog/Adam-Taylor-s-MicroZed-Chronicles-Part-156-Pynq-Hardware/ba-p/732835  \n",
    "http://pynq.readthedocs.io/en/latest/16_creating_overlays.html  "
   ]
  }
 ],
 "metadata": {
  "kernelspec": {
   "display_name": "Python 3",
   "language": "python",
   "name": "python3"
  },
  "language_info": {
   "codemirror_mode": {
    "name": "ipython",
    "version": 3
   },
   "file_extension": ".py",
   "mimetype": "text/x-python",
   "name": "python",
   "nbconvert_exporter": "python",
   "pygments_lexer": "ipython3",
   "version": "3.4.3+"
  }
 },
 "nbformat": 4,
 "nbformat_minor": 1
}
