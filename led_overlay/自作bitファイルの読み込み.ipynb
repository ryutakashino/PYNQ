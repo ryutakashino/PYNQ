{
 "cells": [
  {
   "cell_type": "markdown",
   "metadata": {},
   "source": [
    "### このノートブックでは自作した簡単なLED回路を読み込み、LEDを光らせるまでの一連の流れを記録している。"
   ]
  },
  {
   "cell_type": "markdown",
   "metadata": {},
   "source": [
    "Overlay(\"./led_overlay.bit\").download()で回路(bitファイル)を読み込むことが出来る。詳しくは同じディレクトリの”PL.Overlayについて”を参照。"
   ]
  },
  {
   "cell_type": "code",
   "execution_count": 1,
   "metadata": {
    "collapsed": false
   },
   "outputs": [],
   "source": [
    "from pynq import Overlay\n",
    "# load Base Overlay\n",
    "Overlay(\"./led_overlay.bit\").download()"
   ]
  },
  {
   "cell_type": "markdown",
   "metadata": {},
   "source": [
    "読み込んだled_overlay.bitは以下のようになっている。"
   ]
  },
  {
   "cell_type": "markdown",
   "metadata": {},
   "source": [
    "![](led_overlay.png)"
   ]
  },
  {
   "cell_type": "markdown",
   "metadata": {},
   "source": [
    "上記回路のaxi_gpio_0にアクセスすることでLEDの挙動を変化させることが出来る。作成した時の名前はaxi_gpio_0であったが、tclファイルではSEG_axi_gpio_0_Regへと変わっている。ビットストリームの生成時に回路の名前の先頭にSEG_が追加され、語尾に_Regが追加されるようだ。  \n",
    "\n",
    "このSEG_axi_gpio_0_Regにアクセスするためには、そのベースアドレスを知る必要がある。PYNQではbitファイルの読み込みとともに、tclファイルの情報を解析し、ip_dictという名前の辞書が作成される。回路名とそのアドレス、オフセット、状態(デフォルトはNone)が一つにまとまっており、回路の名前からアドレスやその他の情報を調べることが出来る。"
   ]
  },
  {
   "cell_type": "markdown",
   "metadata": {},
   "source": [
    "##### ip_dictについて(PYNQ公式ドキュメントより引用)\n",
    ">The Overlay package generates a dictionary called ip_dict containing the names of IP in a specific overlay (e.g. base.bit). The dictionary can be used to reference an IP by name in your Python code, rather than by a hard coded address. It can also check the IP available in an overlay.  \n",
    "...  \n",
    ">Note, this parses the tcl file that was exported with the bitstream. It does not do check the overlay currently running in the PL.  \n",
    "http://pynq.readthedocs.io/en/latest/16_creating_overlays.html"
   ]
  },
  {
   "cell_type": "code",
   "execution_count": 2,
   "metadata": {
    "collapsed": false
   },
   "outputs": [
    {
     "data": {
      "text/plain": [
       "['0x41200000', '0x00010000', None]"
      ]
     },
     "execution_count": 2,
     "metadata": {},
     "output_type": "execute_result"
    }
   ],
   "source": [
    "#ip_dictは辞書。ビットストリームファイルが読み込まれると同時に作成される。\n",
    "#ある回路の名前とそれに対応するメモリの情報(['0x41200000', '0x00010000', None])がセットになっている。\n",
    "from pynq import PL\n",
    "PL.ip_dict[\"SEG_axi_gpio_0_Reg\"]"
   ]
  },
  {
   "cell_type": "markdown",
   "metadata": {},
   "source": [
    "led_overlay.tclにおける1063行目\n",
    "\n",
    "create_bd_addr_seg -range 0x00010000 -offset 0x41200000 [get_bd_addr_spaces processing_system7_0/Data] [get_bd_addr_segs axi_gpio_0/S_AXI/Reg] SEG_axi_gpio_0_Reg"
   ]
  },
  {
   "cell_type": "markdown",
   "metadata": {},
   "source": [
    "### LEDを点灯させる(以下のコードではLEDが全て点灯する)"
   ]
  },
  {
   "cell_type": "code",
   "execution_count": 3,
   "metadata": {
    "collapsed": false
   },
   "outputs": [],
   "source": [
    "#\"xilinx/pynq/mmio.py”と\"xilinx/pynq/pl.py\"を使っている\n",
    "#MMIOは/デバイスファイルdev/memを書き換えるための関数\n",
    "\n",
    "from pynq import MMIO\n",
    "from pynq import PL\n",
    "\n",
    "led = MMIO(int(PL.ip_dict[\"SEG_axi_gpio_0_Reg\"][0],16),16)\n",
    "led.write(0x0,0B1111) #0B(led4)(led3)(led2)(led1)"
   ]
  },
  {
   "cell_type": "markdown",
   "metadata": {},
   "source": [
    "### 参考\n",
    "Document  \n",
    "http://pynq.readthedocs.io/en/latest/16_creating_overlays.html?highlight=tcl　　\n",
    "Overlayとpythonのやり取りについて網羅しているサイト。  \n",
    "http://todotani.cocolog-nifty.com/blog/2017/01/pynq-z1overlayp.html  \n",
    "xilinx/pynq/pl.pyのコード  \n",
    "http://pynq.readthedocs.io/en/latest/_modules/pynq/pl.html  "
   ]
  }
 ],
 "metadata": {
  "kernelspec": {
   "display_name": "Python 3",
   "language": "python",
   "name": "python3"
  },
  "language_info": {
   "codemirror_mode": {
    "name": "ipython",
    "version": 3
   },
   "file_extension": ".py",
   "mimetype": "text/x-python",
   "name": "python",
   "nbconvert_exporter": "python",
   "pygments_lexer": "ipython3",
   "version": "3.4.3+"
  }
 },
 "nbformat": 4,
 "nbformat_minor": 1
}
