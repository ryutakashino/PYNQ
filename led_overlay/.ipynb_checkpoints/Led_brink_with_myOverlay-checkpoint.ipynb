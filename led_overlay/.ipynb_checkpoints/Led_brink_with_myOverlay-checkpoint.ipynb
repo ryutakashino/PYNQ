{
 "cells": [
  {
   "cell_type": "code",
   "execution_count": 16,
   "metadata": {
    "collapsed": false
   },
   "outputs": [],
   "source": [
    "from pynq import Overlay\n",
    "# load Base Overlay\n",
    "Overlay(\"./led_overlay.bit\").download()"
   ]
  },
  {
   "cell_type": "code",
   "execution_count": null,
   "metadata": {
    "collapsed": false
   },
   "outputs": [],
   "source": [
    "読み込んだled_overlay.bitは以下のようになっている。"
   ]
  },
  {
   "cell_type": "markdown",
   "metadata": {},
   "source": [
    "![](led_overlay.png)"
   ]
  },
  {
   "cell_type": "code",
   "execution_count": 17,
   "metadata": {
    "collapsed": false
   },
   "outputs": [
    {
     "data": {
      "text/plain": [
       "['0x41200000', '0x00010000', None]"
      ]
     },
     "execution_count": 17,
     "metadata": {},
     "output_type": "execute_result"
    }
   ],
   "source": [
    "#ip_dictは辞書。使用するピンの名前()と\n",
    "#対応するメモリの情報(['0x41200000', '0x00010000', None])がセットになっている\n",
    "from pynq import PL\n",
    "PL.ip_dict[\"SEG_axi_gpio_0_Reg\"]"
   ]
  },
  {
   "cell_type": "code",
   "execution_count": 7,
   "metadata": {
    "collapsed": false
   },
   "outputs": [],
   "source": [
    "# \"xilinx/pynq/board/led.py\"の中身\n",
    "#\"xilinx/pynq/mmio.py”と\"xilinx/pynq/pl.py\"を使っている\n",
    "#PLが回路の情報を取得する。今回は\"SEG_swsleds_gpio_Reg\"と対応するベースアドレスを取得\n",
    "#MMIOが/dev/memのデバイスファイルを書き換える\n",
    "\n",
    "from pynq import MMIO\n",
    "from pynq import PL\n",
    "\n",
    "led = MMIO(int(PL.ip_dict[\"SEG_axi_gpio_0_Reg\"][0],16),16)\n",
    "led.write(0x0,0B1111) #0B(led4)(led3)(led2)(led1)"
   ]
  }
 ],
 "metadata": {
  "kernelspec": {
   "display_name": "Python 3",
   "language": "python",
   "name": "python3"
  },
  "language_info": {
   "codemirror_mode": {
    "name": "ipython",
    "version": 3
   },
   "file_extension": ".py",
   "mimetype": "text/x-python",
   "name": "python",
   "nbconvert_exporter": "python",
   "pygments_lexer": "ipython3",
   "version": "3.4.3+"
  }
 },
 "nbformat": 4,
 "nbformat_minor": 1
}
