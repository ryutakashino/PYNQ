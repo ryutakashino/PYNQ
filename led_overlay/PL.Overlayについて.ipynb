{
 "cells": [
  {
   "cell_type": "markdown",
   "metadata": {},
   "source": [
    "## このノートブックは回路（bitファイル）を読み込む方法に関する記録です。"
   ]
  },
  {
   "cell_type": "markdown",
   "metadata": {
    "collapsed": true
   },
   "source": [
    "以下コードで回路情報(ビットストリームファイル)を読み込むことができる。\n",
    "<pre>\n",
    "```python\n",
    "from pynq import Overlay\n",
    "Overlay(\"./led_overlay.bit\").download()\n",
    "```\n"
    "<\pre>\n",
    "ここで```Overlay(\"./led_overlay.bit\").download()```について、Overlayクラスの中身を取り出すと次のようになる。"
   ]
  },
  {
   "cell_type": "code",
   "execution_count": 11,
   "metadata": {
    "collapsed": false
   },
   "outputs": [],
   "source": [
    "import os\n",
    "\n",
    "with open(\"./led_overlay.bit\", 'rb') as f:\n",
    "    buf = f.read()\n",
    "         \n",
    "        # Set is_partial_bitfile device attribute to 0\n",
    "BS_IS_PARTIAL = \"/sys/devices/soc0/amba/f8007000.devcfg/is_partial_bitstream\"\n",
    "with open(BS_IS_PARTIAL, 'w') as fd:\n",
    "    fd.write('0')\n",
    "         \n",
    "        # Write bitfile to xdevcfg device\n",
    "BS_XDEVCFG = \"/dev/xdevcfg\"\n",
    "with open(BS_XDEVCFG, 'wb') as f:\n",
    "    f.write(buf)\n",
    "    "
   ]
  },
  {
   "cell_type": "code",
   "execution_count": 12,
   "metadata": {
    "collapsed": false
   },
   "outputs": [
    {
     "data": {
      "text/plain": [
       "{'SEG_axi_gpio_0_Reg': ['0x41200000', '0x00010000', None]}"
      ]
     },
     "execution_count": 12,
     "metadata": {},
     "output_type": "execute_result"
    }
   ],
   "source": [
    "from pynq import PL\n",
    "PL.ip_dict"
   ]
  },
  {
   "cell_type": "code",
   "execution_count": 13,
   "metadata": {
    "collapsed": false
   },
   "outputs": [
    {
     "data": {
      "text/plain": [
       "{'SEG_axi_gpio_0_Reg': ['0x41200000', '0x00010000', None]}"
      ]
     },
     "execution_count": 13,
     "metadata": {},
     "output_type": "execute_result"
    }
   ],
   "source": [
    "from pynq import Overlay\n",
    "Overlay(\"./led_overlay.bit\").download()\n",
    "from pynq import PL\n",
    "PL.ip_dict"
   ]
  },
  {
   "cell_type": "markdown",
   "metadata": {},
   "source": [
    "同じ結果が得られた。　　"
   ]
  },
  {
   "cell_type": "markdown",
   "metadata": {},
   "source": [
    "従い、回路（bitファイル）を読み込むためには、  \n",
    "### \"/sys/devices/soc0/amba/f8007000.devcfg/is_partial_bitstream\"  \n",
    "と  \n",
    "### \"/dev/xdevcfg\"  \n",
    "の２つのファイルを操作する必要があることがわかる。  "
   ]
  },
  {
   "cell_type": "markdown",
   "metadata": {},
   "source": [
    "### 参考\n",
    "Document  \n",
    "http://pynq.readthedocs.io/en/latest/pynq.html#module-pynq.pl  \n",
    "Overlayとpythonのやり取りについて網羅しているサイト。  \n",
    "http://todotani.cocolog-nifty.com/blog/2017/01/pynq-z1overlayp.html  \n",
    "xilinx/pynq/pl.pyのコード  \n",
    "http://pynq.readthedocs.io/en/latest/_modules/pynq/pl.html  "
   ]
  }
 ],
 "metadata": {
  "kernelspec": {
   "display_name": "Python 3",
   "language": "python",
   "name": "python3"
  },
  "language_info": {
   "codemirror_mode": {
    "name": "ipython",
    "version": 3
   },
   "file_extension": ".py",
   "mimetype": "text/x-python",
   "name": "python",
   "nbconvert_exporter": "python",
   "pygments_lexer": "ipython3",
   "version": "3.4.3+"
  }
 },
 "nbformat": 4,
 "nbformat_minor": 1
}
