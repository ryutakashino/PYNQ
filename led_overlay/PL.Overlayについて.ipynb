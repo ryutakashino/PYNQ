{
 "cells": [
  {
   "cell_type": "markdown",
   "metadata": {},
   "source": [
    "## このノートブックは回路（bitファイル）を読み込む方法に関する記録です。"
   ]
  },
  {
   "cell_type": "markdown",
   "metadata": {
    "collapsed": true
   },
   "source": [
    "以下コードで回路（bitファイル）を読み込むことができる。\n",
    "<pre>\n",
    "```python\n",
    "from pynq import Overlay\n",
    "Overlay(\"./led_overlay.bit\").download()\n",
    "```\n",
    "</pre>  \n",
    "やってみる。"
   ]
  },
  {
   "cell_type": "code",
   "execution_count": 1,
   "metadata": {
    "collapsed": true
   },
   "outputs": [],
   "source": [
    "from pynq import Overlay\n",
    "Overlay(\"/home/xilinx/pynq/bitstream/base.bit\").download()\n",
    "Overlay(\"./led_overlay.bit\").download()\n",
    "from pynq import PL\n",
    "PL.ip_dict\n",
    "\n",
    "#led_overlay.bitを読み込んだときに光るコマンド\n",
    "from pynq import MMIO\n",
    "led = MMIO(0x41200000,16)\n",
    "led.write(0x0,0B0011)"
   ]
  },
  {
   "cell_type": "markdown",
   "metadata": {},
   "source": [
    "光る。  \n",
    "Overlay(\"./led_overlay.bit\").download()について、Overlayクラスの中身を見てみると  \n",
    " \"/sys/devices/soc0/amba/f8007000.devcfg/is_partial_bitstream\"  \n",
    "と  \n",
    " \"/dev/xdevcfg\"  \n",
    "に書き込みをしていることがわかる。実際にこの２つのデバイスファイルに書き込むことで回路が書き換わるか試してみる。まず、基本の回路では光らないことを確認する。"
   ]
  },
  {
   "cell_type": "code",
   "execution_count": 2,
   "metadata": {
    "collapsed": true
   },
   "outputs": [],
   "source": [
    "from pynq import PL\n",
    "\n",
    "#基本のOverlayを読み込む\n",
    "from pynq import Overlay\n",
    "Overlay(\"/home/xilinx/pynq/bitstream/base.bit\").download()\n",
    "\n",
    "#led_overlay.bitを読み込んだときに光るコマンド\n",
    "from pynq import MMIO\n",
    "led = MMIO(0x41200000,16)\n",
    "led.write(0x0,0B1111)"
   ]
  },
  {
   "cell_type": "markdown",
   "metadata": {},
   "source": [
    "光らない。２つのデバイスファイルに書き込みをすると。"
   ]
  },
  {
   "cell_type": "code",
   "execution_count": 3,
   "metadata": {
    "collapsed": false
   },
   "outputs": [],
   "source": [
    "import os\n",
    "with open(\"./led_overlay.bit\", 'rb') as f:\n",
    "    buf = f.read()\n",
    "         \n",
    "        # Set is_partial_bitfile device attribute to 0\n",
    "BS_IS_PARTIAL = \"/sys/devices/soc0/amba/f8007000.devcfg/is_partial_bitstream\"\n",
    "with open(BS_IS_PARTIAL, 'w') as fd:\n",
    "    fd.write('0')\n",
    "         \n",
    "        # Write bitfile to xdevcfg device\n",
    "BS_XDEVCFG = \"/dev/xdevcfg\"\n",
    "with open(BS_XDEVCFG, 'wb') as f:\n",
    "    f.write(buf)\n",
    "\n",
    "#led_overlay.bitを読み込んだときに光るコマンド\n",
    "from pynq import MMIO\n",
    "led = MMIO(0x41200000,16)\n",
    "led.write(0x0,0B0011)"
   ]
  },
  {
   "cell_type": "markdown",
   "metadata": {},
   "source": [
    "光る。一番最初のコードと同じ結果が得られた。　　"
   ]
  },
  {
   "cell_type": "markdown",
   "metadata": {},
   "source": [
    "従い、回路（bitファイル）を読み込むためには、  \n",
    "### \"/sys/devices/soc0/amba/f8007000.devcfg/is_partial_bitstream\"  \n",
    "と  \n",
    "### \"/dev/xdevcfg\"  \n",
    "の２つのファイルを操作する必要があることがわかる。  "
   ]
  },
  {
   "cell_type": "markdown",
   "metadata": {},
   "source": [
    "### 参考\n",
    "Document  \n",
    "http://pynq.readthedocs.io/en/latest/pynq.html#module-pynq.pl  \n",
    "Overlayとpythonのやり取りについて網羅しているサイト。  \n",
    "http://todotani.cocolog-nifty.com/blog/2017/01/pynq-z1overlayp.html  \n",
    "xilinx/pynq/pl.pyのコード  \n",
    "http://pynq.readthedocs.io/en/latest/_modules/pynq/pl.html  "
   ]
  }
 ],
 "metadata": {
  "kernelspec": {
   "display_name": "Python 3",
   "language": "python",
   "name": "python3"
  },
  "language_info": {
   "codemirror_mode": {
    "name": "ipython",
    "version": 3
   },
   "file_extension": ".py",
   "mimetype": "text/x-python",
   "name": "python",
   "nbconvert_exporter": "python",
   "pygments_lexer": "ipython3",
   "version": "3.4.3+"
  }
 },
 "nbformat": 4,
 "nbformat_minor": 1
}
