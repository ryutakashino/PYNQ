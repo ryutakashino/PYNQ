{
 "cells": [
  {
   "cell_type": "markdown",
   "metadata": {
    "deletable": true,
    "editable": true
   },
   "source": [
    "###  C program made by SDSoc2016.1\n",
    "\n",
    "* 簡単なプログラムをそのまま(HW化せずに)SDSocを用いてSOファイルに落とし込んだ。\n",
    "* CFFIを利用してPythonからそのプログラムを呼び出すための試行錯誤である。\n",
    "* なおこのノートブックは　https://github.com/tkat0/pynqmmult/blob/master/notebooks/pynqmmult.ipynb を参考に作られた。"
   ]
  },
  {
   "cell_type": "markdown",
   "metadata": {},
   "source": [
    "今回使用するCコードは\n",
    "<pre>\n",
    "```c\n",
    "int test(int a, int b){\n",
    "    b = 2*a;\n",
    "    return 0\n",
    "}\n",
    "```\n",
    "</pre>\n",
    "である。このコードをSDSocでビルドし生成したものが\n",
    "* test_PYNQ_2016_1.so\n",
    "* test_PYNQ_2016_1.bit\n",
    "* test_PYNQ_2016_1.tcl　　\n",
    "の合計３つ。"
   ]
  },
  {
   "cell_type": "code",
   "execution_count": 1,
   "metadata": {
    "collapsed": false,
    "deletable": true,
    "editable": true
   },
   "outputs": [],
   "source": [
    "from pynq import Overlay\n",
    "# load Base Overlay\n",
    "Overlay(\"/home/xilinx/pynq/bitstream/base.bit\").download()"
   ]
  },
  {
   "cell_type": "code",
   "execution_count": 5,
   "metadata": {
    "collapsed": false,
    "deletable": true,
    "editable": true
   },
   "outputs": [
    {
     "name": "stdout",
     "output_type": "stream",
     "text": [
      "00004d08 T cf_test\n",
      "00002644 T test\n",
      "---\n",
      "00004d08 T cf_test\n",
      "00002644 T test\n"
     ]
    }
   ],
   "source": [
    "!nm -C ./test_PYNQ_2016_1.so | grep test\n",
    "!echo ---\n",
    "!nm -D ./test_PYNQ_2016_1.so | grep test"
   ]
  },
  {
   "cell_type": "markdown",
   "metadata": {
    "deletable": true,
    "editable": true
   },
   "source": [
    "###  実行クラス"
   ]
  },
  {
   "cell_type": "code",
   "execution_count": 8,
   "metadata": {
    "collapsed": false,
    "deletable": true,
    "editable": true
   },
   "outputs": [],
   "source": [
    "class Double():\n",
    "    def __init__(self):\n",
    "        self.bitfile = \"./test_PYNQ_2016_1.bit\"\n",
    "        self.libfile = \"./test_PYNQ_2016_1.so\"\n",
    "        self.ffi = cffi.FFI()\n",
    "        self.ffi.cdef(\"void test(int*, int*);\")\n",
    "        self.lib = self.ffi.dlopen(self.libfile)\n",
    "        Overlay(self.bitfile).download()\n",
    "    \n",
    "    def __call__(self, a, b):\n",
    "        # a,b is CData Object\n",
    "        self.lib.test(a,b)\n"
   ]
  },
  {
   "cell_type": "code",
   "execution_count": 10,
   "metadata": {
    "collapsed": false,
    "deletable": true,
    "editable": true
   },
   "outputs": [
    {
     "ename": "TypeError",
     "evalue": "initializer for ctype 'int *' must be a cdata pointer, not int",
     "output_type": "error",
     "traceback": [
      "\u001b[0;31m---------------------------------------------------------------------------\u001b[0m",
      "\u001b[0;31mTypeError\u001b[0m                                 Traceback (most recent call last)",
      "\u001b[0;32m<ipython-input-10-5a14214ba40d>\u001b[0m in \u001b[0;36m<module>\u001b[0;34m()\u001b[0m\n\u001b[1;32m      1\u001b[0m \u001b[0mdouble\u001b[0m \u001b[0;34m=\u001b[0m \u001b[0mDouble\u001b[0m\u001b[0;34m(\u001b[0m\u001b[0;34m)\u001b[0m\u001b[0;34m\u001b[0m\u001b[0m\n\u001b[0;32m----> 2\u001b[0;31m \u001b[0mdouble\u001b[0m\u001b[0;34m(\u001b[0m\u001b[0;36m4\u001b[0m\u001b[0;34m,\u001b[0m\u001b[0;36m0\u001b[0m\u001b[0;34m)\u001b[0m\u001b[0;34m\u001b[0m\u001b[0m\n\u001b[0m",
      "\u001b[0;32m<ipython-input-8-39c10bc0ce3e>\u001b[0m in \u001b[0;36m__call__\u001b[0;34m(self, a, b)\u001b[0m\n\u001b[1;32m     10\u001b[0m     \u001b[0;32mdef\u001b[0m \u001b[0m__call__\u001b[0m\u001b[0;34m(\u001b[0m\u001b[0mself\u001b[0m\u001b[0;34m,\u001b[0m \u001b[0ma\u001b[0m\u001b[0;34m,\u001b[0m \u001b[0mb\u001b[0m\u001b[0;34m)\u001b[0m\u001b[0;34m:\u001b[0m\u001b[0;34m\u001b[0m\u001b[0m\n\u001b[1;32m     11\u001b[0m         \u001b[0;31m# a,b is CData Object\u001b[0m\u001b[0;34m\u001b[0m\u001b[0;34m\u001b[0m\u001b[0m\n\u001b[0;32m---> 12\u001b[0;31m         \u001b[0mself\u001b[0m\u001b[0;34m.\u001b[0m\u001b[0mlib\u001b[0m\u001b[0;34m.\u001b[0m\u001b[0mtest\u001b[0m\u001b[0;34m(\u001b[0m\u001b[0ma\u001b[0m\u001b[0;34m,\u001b[0m\u001b[0mb\u001b[0m\u001b[0;34m)\u001b[0m\u001b[0;34m\u001b[0m\u001b[0m\n\u001b[0m",
      "\u001b[0;31mTypeError\u001b[0m: initializer for ctype 'int *' must be a cdata pointer, not int"
     ]
    }
   ],
   "source": [
    "double = Double()\n",
    "double(4,0)"
   ]
  }
 ],
 "metadata": {
  "kernelspec": {
   "display_name": "Python 3",
   "language": "python",
   "name": "python3"
  },
  "language_info": {
   "codemirror_mode": {
    "name": "ipython",
    "version": 3
   },
   "file_extension": ".py",
   "mimetype": "text/x-python",
   "name": "python",
   "nbconvert_exporter": "python",
   "pygments_lexer": "ipython3",
   "version": "3.4.3+"
  }
 },
 "nbformat": 4,
 "nbformat_minor": 0
}
