{
 "cells": [
  {
   "cell_type": "markdown",
   "metadata": {
    "deletable": true,
    "editable": true
   },
   "source": [
    "###  mmult on PYNQ\n",
    "##### Source : https://github.com/tkat0/pynqmmult\n",
    "\n",
    "* SDSoC付属の内積演算サンプルをPYNQで動かしてみた\n",
    "* ドライバは共有ライブラリとしてビルドし、CFFIを利用してPythonから呼び出す\n",
    "* CMAでアロケートした連続領域をnumpyのndarrayとして扱えるようにした\n",
    "* 開発環境は、SDSoC 2015.4"
   ]
  },
  {
   "cell_type": "code",
   "execution_count": 3,
   "metadata": {
    "collapsed": false,
    "deletable": true,
    "editable": true
   },
   "outputs": [
    {
     "ename": "ImportError",
     "evalue": "cannot import name 'xlnk'",
     "output_type": "error",
     "traceback": [
      "\u001b[0;31m---------------------------------------------------------------------------\u001b[0m",
      "\u001b[0;31mImportError\u001b[0m                               Traceback (most recent call last)",
      "\u001b[0;32m<ipython-input-3-0b4b1848cf5b>\u001b[0m in \u001b[0;36m<module>\u001b[0;34m()\u001b[0m\n\u001b[1;32m      5\u001b[0m \u001b[0mOverlay\u001b[0m\u001b[0;34m(\u001b[0m\u001b[0;34m\"/home/xilinx/pynq/bitstream/base.bit\"\u001b[0m\u001b[0;34m)\u001b[0m\u001b[0;34m.\u001b[0m\u001b[0mdownload\u001b[0m\u001b[0;34m(\u001b[0m\u001b[0;34m)\u001b[0m\u001b[0;34m\u001b[0m\u001b[0m\n\u001b[1;32m      6\u001b[0m \u001b[0;34m\u001b[0m\u001b[0m\n\u001b[0;32m----> 7\u001b[0;31m \u001b[0;32mfrom\u001b[0m \u001b[0mpynq\u001b[0m\u001b[0;34m.\u001b[0m\u001b[0mdrivers\u001b[0m \u001b[0;32mimport\u001b[0m \u001b[0mxlnk\u001b[0m\u001b[0;34m\u001b[0m\u001b[0m\n\u001b[0m",
      "\u001b[0;31mImportError\u001b[0m: cannot import name 'xlnk'"
     ]
    }
   ],
   "source": [
    "import numpy as np\n",
    "import cffi\n",
    "from pynq import Overlay\n",
    "# load Base Overlay\n",
    "Overlay(\"/home/xilinx/pynq/bitstream/base.bit\").download()\n",
    "\n",
    "from pynq.drivers import xlnk"
   ]
  },
  {
   "cell_type": "code",
   "execution_count": 4,
   "metadata": {
    "collapsed": false,
    "deletable": true,
    "editable": true
   },
   "outputs": [
    {
     "name": "stdout",
     "output_type": "stream",
     "text": [
      "000121e4 B _p0_mmult_accel_0_num_out_C\n",
      "00012168 D _p0_swinst_mmult_accel_0\n",
      "00012124 D _p0_swinst_mmult_accel_0_cmd_mmult_accel_info\n",
      "00012144 D _p0_swinst_mmult_accel_0_in_A_info\n",
      "00012150 D _p0_swinst_mmult_accel_0_in_B_info\n",
      "0001215c D _p0_swinst_mmult_accel_0_out_C_info\n",
      "00012104 D _sds__p0_mmult_accel_0\n",
      "00001318 T mmult_accel(float*, float*, float*)\n",
      "000014c0 T _p0_mmult_accel_0(float*, float*, float*)\n",
      "---\n",
      "000121e4 B _p0_mmult_accel_0_num_out_C\n",
      "00012168 D _p0_swinst_mmult_accel_0\n",
      "00012124 D _p0_swinst_mmult_accel_0_cmd_mmult_accel_info\n",
      "00012144 D _p0_swinst_mmult_accel_0_in_A_info\n",
      "00012150 D _p0_swinst_mmult_accel_0_in_B_info\n",
      "0001215c D _p0_swinst_mmult_accel_0_out_C_info\n",
      "00012104 D _sds__p0_mmult_accel_0\n",
      "00001318 T _Z11mmult_accelPfS_S_\n",
      "000014c0 T _Z17_p0_mmult_accel_0PfS_S_\n"
     ]
    }
   ],
   "source": [
    "# SDSoCでビルドした共有ライブラリから、HW化した関数の名前を把握する\n",
    "# SW版の関数名は、mmult_accelだが、HW化すると_p0_mmult_accel_0となる。\n",
    "# さらに、コンパイラの名前マングリングにより_Z17_p0_mmult_accel_0PfS_S_になるよう\n",
    "!nm -C ./libpynqmmult.so | grep mmult_accel\n",
    "!echo ---\n",
    "!nm -D ./libpynqmmult.so | grep mmult_accel"
   ]
  },
  {
   "cell_type": "markdown",
   "metadata": {
    "deletable": true,
    "editable": true
   },
   "source": [
    "### Call Accelerator"
   ]
  },
  {
   "cell_type": "code",
   "execution_count": 5,
   "metadata": {
    "collapsed": false,
    "deletable": true,
    "editable": true
   },
   "outputs": [],
   "source": [
    "class Mmult():\n",
    "    def __init__(self):\n",
    "        self.bitfile = \"./pynqmmult.bit\"\n",
    "        self.libfile = \"./libpynqmmult.so\"\n",
    "        self.ffi = cffi.FFI()\n",
    "        self.ffi.cdef(\"void _Z17_p0_mmult_accel_0PfS_S_(float*, float*, float*);\")\n",
    "        self.lib = self.ffi.dlopen(self.libfile)\n",
    "        Overlay(self.bitfile).download()\n",
    "    \n",
    "    def __call__(self, a, b, c):\n",
    "        # a,b,c is CData Object\n",
    "        self.lib._Z17_p0_mmult_accel_0PfS_S_(a,b,c)\n"
   ]
  },
  {
   "cell_type": "code",
   "execution_count": 6,
   "metadata": {
    "collapsed": false,
    "deletable": true,
    "editable": true
   },
   "outputs": [
    {
     "ename": "OSError",
     "evalue": "cannot load library ./libpynqmmult.so: ./libpynqmmult.so: undefined symbol: accel_register",
     "output_type": "error",
     "traceback": [
      "\u001b[0;31m---------------------------------------------------------------------------\u001b[0m",
      "\u001b[0;31mOSError\u001b[0m                                   Traceback (most recent call last)",
      "\u001b[0;32m<ipython-input-6-a4cbbb3adcfa>\u001b[0m in \u001b[0;36m<module>\u001b[0;34m()\u001b[0m\n\u001b[0;32m----> 1\u001b[0;31m \u001b[0mmmult\u001b[0m \u001b[0;34m=\u001b[0m \u001b[0mMmult\u001b[0m\u001b[0;34m(\u001b[0m\u001b[0;34m)\u001b[0m\u001b[0;34m\u001b[0m\u001b[0m\n\u001b[0m",
      "\u001b[0;32m<ipython-input-5-9ade03263ad6>\u001b[0m in \u001b[0;36m__init__\u001b[0;34m(self)\u001b[0m\n\u001b[1;32m      5\u001b[0m         \u001b[0mself\u001b[0m\u001b[0;34m.\u001b[0m\u001b[0mffi\u001b[0m \u001b[0;34m=\u001b[0m \u001b[0mcffi\u001b[0m\u001b[0;34m.\u001b[0m\u001b[0mFFI\u001b[0m\u001b[0;34m(\u001b[0m\u001b[0;34m)\u001b[0m\u001b[0;34m\u001b[0m\u001b[0m\n\u001b[1;32m      6\u001b[0m         \u001b[0mself\u001b[0m\u001b[0;34m.\u001b[0m\u001b[0mffi\u001b[0m\u001b[0;34m.\u001b[0m\u001b[0mcdef\u001b[0m\u001b[0;34m(\u001b[0m\u001b[0;34m\"void _Z17_p0_mmult_accel_0PfS_S_(float*, float*, float*);\"\u001b[0m\u001b[0;34m)\u001b[0m\u001b[0;34m\u001b[0m\u001b[0m\n\u001b[0;32m----> 7\u001b[0;31m         \u001b[0mself\u001b[0m\u001b[0;34m.\u001b[0m\u001b[0mlib\u001b[0m \u001b[0;34m=\u001b[0m \u001b[0mself\u001b[0m\u001b[0;34m.\u001b[0m\u001b[0mffi\u001b[0m\u001b[0;34m.\u001b[0m\u001b[0mdlopen\u001b[0m\u001b[0;34m(\u001b[0m\u001b[0mself\u001b[0m\u001b[0;34m.\u001b[0m\u001b[0mlibfile\u001b[0m\u001b[0;34m)\u001b[0m\u001b[0;34m\u001b[0m\u001b[0m\n\u001b[0m\u001b[1;32m      8\u001b[0m         \u001b[0mOverlay\u001b[0m\u001b[0;34m(\u001b[0m\u001b[0mself\u001b[0m\u001b[0;34m.\u001b[0m\u001b[0mbitfile\u001b[0m\u001b[0;34m)\u001b[0m\u001b[0;34m.\u001b[0m\u001b[0mdownload\u001b[0m\u001b[0;34m(\u001b[0m\u001b[0;34m)\u001b[0m\u001b[0;34m\u001b[0m\u001b[0m\n\u001b[1;32m      9\u001b[0m \u001b[0;34m\u001b[0m\u001b[0m\n",
      "\u001b[0;32m/opt/python3.6/lib/python3.6/site-packages/cffi/api.py\u001b[0m in \u001b[0;36mdlopen\u001b[0;34m(self, name, flags)\u001b[0m\n\u001b[1;32m    137\u001b[0m         \u001b[0;32massert\u001b[0m \u001b[0misinstance\u001b[0m\u001b[0;34m(\u001b[0m\u001b[0mname\u001b[0m\u001b[0;34m,\u001b[0m \u001b[0mbasestring\u001b[0m\u001b[0;34m)\u001b[0m \u001b[0;32mor\u001b[0m \u001b[0mname\u001b[0m \u001b[0;32mis\u001b[0m \u001b[0;32mNone\u001b[0m\u001b[0;34m\u001b[0m\u001b[0m\n\u001b[1;32m    138\u001b[0m         \u001b[0;32mwith\u001b[0m \u001b[0mself\u001b[0m\u001b[0;34m.\u001b[0m\u001b[0m_lock\u001b[0m\u001b[0;34m:\u001b[0m\u001b[0;34m\u001b[0m\u001b[0m\n\u001b[0;32m--> 139\u001b[0;31m             \u001b[0mlib\u001b[0m\u001b[0;34m,\u001b[0m \u001b[0mfunction_cache\u001b[0m \u001b[0;34m=\u001b[0m \u001b[0m_make_ffi_library\u001b[0m\u001b[0;34m(\u001b[0m\u001b[0mself\u001b[0m\u001b[0;34m,\u001b[0m \u001b[0mname\u001b[0m\u001b[0;34m,\u001b[0m \u001b[0mflags\u001b[0m\u001b[0;34m)\u001b[0m\u001b[0;34m\u001b[0m\u001b[0m\n\u001b[0m\u001b[1;32m    140\u001b[0m             \u001b[0mself\u001b[0m\u001b[0;34m.\u001b[0m\u001b[0m_function_caches\u001b[0m\u001b[0;34m.\u001b[0m\u001b[0mappend\u001b[0m\u001b[0;34m(\u001b[0m\u001b[0mfunction_cache\u001b[0m\u001b[0;34m)\u001b[0m\u001b[0;34m\u001b[0m\u001b[0m\n\u001b[1;32m    141\u001b[0m             \u001b[0mself\u001b[0m\u001b[0;34m.\u001b[0m\u001b[0m_libraries\u001b[0m\u001b[0;34m.\u001b[0m\u001b[0mappend\u001b[0m\u001b[0;34m(\u001b[0m\u001b[0mlib\u001b[0m\u001b[0;34m)\u001b[0m\u001b[0;34m\u001b[0m\u001b[0m\n",
      "\u001b[0;32m/opt/python3.6/lib/python3.6/site-packages/cffi/api.py\u001b[0m in \u001b[0;36m_make_ffi_library\u001b[0;34m(ffi, libname, flags)\u001b[0m\n\u001b[1;32m    767\u001b[0m     \u001b[0;32mimport\u001b[0m \u001b[0mos\u001b[0m\u001b[0;34m\u001b[0m\u001b[0m\n\u001b[1;32m    768\u001b[0m     \u001b[0mbackend\u001b[0m \u001b[0;34m=\u001b[0m \u001b[0mffi\u001b[0m\u001b[0;34m.\u001b[0m\u001b[0m_backend\u001b[0m\u001b[0;34m\u001b[0m\u001b[0m\n\u001b[0;32m--> 769\u001b[0;31m     \u001b[0mbackendlib\u001b[0m \u001b[0;34m=\u001b[0m \u001b[0m_load_backend_lib\u001b[0m\u001b[0;34m(\u001b[0m\u001b[0mbackend\u001b[0m\u001b[0;34m,\u001b[0m \u001b[0mlibname\u001b[0m\u001b[0;34m,\u001b[0m \u001b[0mflags\u001b[0m\u001b[0;34m)\u001b[0m\u001b[0;34m\u001b[0m\u001b[0m\n\u001b[0m\u001b[1;32m    770\u001b[0m     \u001b[0;31m#\u001b[0m\u001b[0;34m\u001b[0m\u001b[0;34m\u001b[0m\u001b[0m\n\u001b[1;32m    771\u001b[0m     \u001b[0;32mdef\u001b[0m \u001b[0maccessor_function\u001b[0m\u001b[0;34m(\u001b[0m\u001b[0mname\u001b[0m\u001b[0;34m)\u001b[0m\u001b[0;34m:\u001b[0m\u001b[0;34m\u001b[0m\u001b[0m\n",
      "\u001b[0;32m/opt/python3.6/lib/python3.6/site-packages/cffi/api.py\u001b[0m in \u001b[0;36m_load_backend_lib\u001b[0;34m(backend, name, flags)\u001b[0m\n\u001b[1;32m    756\u001b[0m         \u001b[0;32mif\u001b[0m \u001b[0;34m'.'\u001b[0m \u001b[0;32mnot\u001b[0m \u001b[0;32min\u001b[0m \u001b[0mname\u001b[0m \u001b[0;32mand\u001b[0m \u001b[0;34m'/'\u001b[0m \u001b[0;32mnot\u001b[0m \u001b[0;32min\u001b[0m \u001b[0mname\u001b[0m\u001b[0;34m:\u001b[0m\u001b[0;34m\u001b[0m\u001b[0m\n\u001b[1;32m    757\u001b[0m             \u001b[0;32mraise\u001b[0m \u001b[0mOSError\u001b[0m\u001b[0;34m(\u001b[0m\u001b[0;34m\"library not found: %r\"\u001b[0m \u001b[0;34m%\u001b[0m \u001b[0;34m(\u001b[0m\u001b[0mname\u001b[0m\u001b[0;34m,\u001b[0m\u001b[0;34m)\u001b[0m\u001b[0;34m)\u001b[0m\u001b[0;34m\u001b[0m\u001b[0m\n\u001b[0;32m--> 758\u001b[0;31m         \u001b[0;32mreturn\u001b[0m \u001b[0mbackend\u001b[0m\u001b[0;34m.\u001b[0m\u001b[0mload_library\u001b[0m\u001b[0;34m(\u001b[0m\u001b[0mname\u001b[0m\u001b[0;34m,\u001b[0m \u001b[0mflags\u001b[0m\u001b[0;34m)\u001b[0m\u001b[0;34m\u001b[0m\u001b[0m\n\u001b[0m\u001b[1;32m    759\u001b[0m     \u001b[0;32mexcept\u001b[0m \u001b[0mOSError\u001b[0m\u001b[0;34m:\u001b[0m\u001b[0;34m\u001b[0m\u001b[0m\n\u001b[1;32m    760\u001b[0m         \u001b[0;32mimport\u001b[0m \u001b[0mctypes\u001b[0m\u001b[0;34m.\u001b[0m\u001b[0mutil\u001b[0m\u001b[0;34m\u001b[0m\u001b[0m\n",
      "\u001b[0;31mOSError\u001b[0m: cannot load library ./libpynqmmult.so: ./libpynqmmult.so: undefined symbol: accel_register"
     ]
    }
   ],
   "source": [
    "mmult = Mmult()"
   ]
  },
  {
   "cell_type": "code",
   "execution_count": 5,
   "metadata": {
    "collapsed": false,
    "deletable": true,
    "editable": true
   },
   "outputs": [],
   "source": [
    "# SDSoCにより高位合成したHWにDMA(not SG)経由で読み書きするメモリ領域は連続領域である必要がある\n",
    "# 連続領域は、CMAのAPIにより、確保する\n",
    "# 連続領域をndarrayとして扱う\n",
    "\n",
    "memmanager = xlnk.xlnk()\n",
    "ffi = cffi.FFI()\n",
    "\n",
    " # TODO 現状32x32の配列のみ対応。汎用化する\n",
    "def init_contiguous_ndarray(size=(32,32), dtype=\"float\"):\n",
    "    buf = memmanager.cma_alloc(32*32, data_type=dtype)\n",
    "    cbuf = ffi.buffer(buf,  32*32 * ffi.sizeof(dtype))\n",
    "    return np.frombuffer(cbuf, dtype=np.float32).reshape(size), buf"
   ]
  },
  {
   "cell_type": "code",
   "execution_count": 6,
   "metadata": {
    "collapsed": false,
    "deletable": true,
    "editable": true
   },
   "outputs": [
    {
     "name": "stdout",
     "output_type": "stream",
     "text": [
      "A (32, 32) <class 'numpy.ndarray'>\n",
      "[[ 1.  1.  1. ...,  1.  1.  1.]\n",
      " [ 1.  1.  1. ...,  1.  1.  1.]\n",
      " [ 1.  1.  1. ...,  1.  1.  1.]\n",
      " ..., \n",
      " [ 1.  1.  1. ...,  1.  1.  1.]\n",
      " [ 1.  1.  1. ...,  1.  1.  1.]\n",
      " [ 1.  1.  1. ...,  1.  1.  1.]]\n",
      "B (32, 32) <class 'numpy.ndarray'>\n",
      "[[ 2.  2.  2. ...,  2.  2.  2.]\n",
      " [ 2.  2.  2. ...,  2.  2.  2.]\n",
      " [ 2.  2.  2. ...,  2.  2.  2.]\n",
      " ..., \n",
      " [ 2.  2.  2. ...,  2.  2.  2.]\n",
      " [ 2.  2.  2. ...,  2.  2.  2.]\n",
      " [ 2.  2.  2. ...,  2.  2.  2.]]\n",
      "C (32, 32) <class 'numpy.ndarray'>\n",
      "[[ 0.  0.  0. ...,  0.  0.  0.]\n",
      " [ 0.  0.  0. ...,  0.  0.  0.]\n",
      " [ 0.  0.  0. ...,  0.  0.  0.]\n",
      " ..., \n",
      " [ 0.  0.  0. ...,  0.  0.  0.]\n",
      " [ 0.  0.  0. ...,  0.  0.  0.]\n",
      " [ 0.  0.  0. ...,  0.  0.  0.]]\n"
     ]
    }
   ],
   "source": [
    "a, pa = init_contiguous_ndarray()\n",
    "b, pb = init_contiguous_ndarray()\n",
    "c, pc = init_contiguous_ndarray()\n",
    "\n",
    "a += 1\n",
    "b += 2\n",
    "\n",
    "print(\"A\", a.shape, type(a))\n",
    "print(a)\n",
    "print(\"B\", b.shape, type(b))\n",
    "print(b)\n",
    "print(\"C\", c.shape, type(c))\n",
    "print(c)"
   ]
  },
  {
   "cell_type": "code",
   "execution_count": 7,
   "metadata": {
    "collapsed": false,
    "deletable": true,
    "editable": true
   },
   "outputs": [],
   "source": [
    "mmult(pa, pb, pc)"
   ]
  },
  {
   "cell_type": "code",
   "execution_count": 8,
   "metadata": {
    "collapsed": false,
    "deletable": true,
    "editable": true
   },
   "outputs": [
    {
     "name": "stdout",
     "output_type": "stream",
     "text": [
      "C (32, 32) <class 'numpy.ndarray'>\n",
      "[[ 64.  64.  64. ...,  64.  64.  64.]\n",
      " [ 64.  64.  64. ...,  64.  64.  64.]\n",
      " [ 64.  64.  64. ...,  64.  64.  64.]\n",
      " ..., \n",
      " [ 64.  64.  64. ...,  64.  64.  64.]\n",
      " [ 64.  64.  64. ...,  64.  64.  64.]\n",
      " [ 64.  64.  64. ...,  64.  64.  64.]]\n"
     ]
    }
   ],
   "source": [
    "print(\"C\", c.shape, type(c))\n",
    "print(c)"
   ]
  },
  {
   "cell_type": "markdown",
   "metadata": {
    "deletable": true,
    "editable": true
   },
   "source": [
    "### Test"
   ]
  },
  {
   "cell_type": "code",
   "execution_count": 9,
   "metadata": {
    "collapsed": false,
    "deletable": true,
    "editable": true
   },
   "outputs": [
    {
     "data": {
      "text/plain": [
       "array([[ 64.,  64.,  64., ...,  64.,  64.,  64.],\n",
       "       [ 64.,  64.,  64., ...,  64.,  64.,  64.],\n",
       "       [ 64.,  64.,  64., ...,  64.,  64.,  64.],\n",
       "       ..., \n",
       "       [ 64.,  64.,  64., ...,  64.,  64.,  64.],\n",
       "       [ 64.,  64.,  64., ...,  64.,  64.,  64.],\n",
       "       [ 64.,  64.,  64., ...,  64.,  64.,  64.]], dtype=float32)"
      ]
     },
     "execution_count": 9,
     "metadata": {},
     "output_type": "execute_result"
    }
   ],
   "source": [
    "# For comparison\n",
    "np.dot(a,b)"
   ]
  },
  {
   "cell_type": "code",
   "execution_count": 10,
   "metadata": {
    "collapsed": false,
    "deletable": true,
    "editable": true
   },
   "outputs": [
    {
     "name": "stdout",
     "output_type": "stream",
     "text": [
      "OK\n"
     ]
    }
   ],
   "source": [
    "# SWとHWの計算結果の全ての要素が一致することを確認\n",
    "if np.alltrue(c == np.dot(a, b)):\n",
    "    print(\"OK\")\n",
    "else:\n",
    "    print(\"NG\")"
   ]
  },
  {
   "cell_type": "markdown",
   "metadata": {
    "deletable": true,
    "editable": true
   },
   "source": [
    "### Benchmarks"
   ]
  },
  {
   "cell_type": "code",
   "execution_count": 11,
   "metadata": {
    "collapsed": false,
    "deletable": true,
    "editable": true
   },
   "outputs": [
    {
     "name": "stdout",
     "output_type": "stream",
     "text": [
      "100 loops, best of 3: 33.6 µs per loop\n"
     ]
    }
   ],
   "source": [
    "# HW\n",
    "t_hw = %timeit -n 100 -o mmult(pa, pb, pc)"
   ]
  },
  {
   "cell_type": "code",
   "execution_count": 12,
   "metadata": {
    "collapsed": false,
    "deletable": true,
    "editable": true
   },
   "outputs": [
    {
     "name": "stdout",
     "output_type": "stream",
     "text": [
      "100 loops, best of 3: 7.36 ms per loop\n"
     ]
    }
   ],
   "source": [
    "# SW\n",
    "t_sw = %timeit -n 100 -o np.dot(a, b)"
   ]
  }
 ],
 "metadata": {
  "kernelspec": {
   "display_name": "Python 3",
   "language": "python",
   "name": "python3"
  },
  "language_info": {
   "codemirror_mode": {
    "name": "ipython",
    "version": 3
   },
   "file_extension": ".py",
   "mimetype": "text/x-python",
   "name": "python",
   "nbconvert_exporter": "python",
   "pygments_lexer": "ipython3",
   "version": "3.6.0"
  }
 },
 "nbformat": 4,
 "nbformat_minor": 0
}
