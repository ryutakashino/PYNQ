{
 "cells": [
  {
   "cell_type": "markdown",
   "metadata": {},
   "source": [
    "ARM Cortex-A9ということはつまり、このプログラムはARM上で動いているUbuntuをいじっているだけなのかな。FPGA関係ない。"
   ]
  },
  {
   "cell_type": "code",
   "execution_count": 1,
   "metadata": {
    "collapsed": true
   },
   "outputs": [],
   "source": [
    "\"\"\"Factors and Primes function\"\"\"\n",
    "\n",
    "from pprint import pprint\n",
    "\n",
    "def factorize(n):\n",
    "    factors =[]\n",
    "    if isinstance(n, int) and n>0:\n",
    "        if n==1:\n",
    "            factors.append(n)\n",
    "            return factors\n",
    "        else:\n",
    "            for x in range(1,int(n**0.5)+1):\n",
    "                if n%x==0:\n",
    "                    factors.append(x)\n",
    "                    factors.append(n//x)\n",
    "            return sorted(set(factors))\n",
    "    else:\n",
    "        print('factorize ONLY computes with one integer argument > 0')\n",
    "        \n",
    "def primes_between(interval_min, interval_max):\n",
    "    primes = []\n",
    "    if (isinstance(interval_min, int)and interval_min>0 and isinstance(interval_max, int) and interval_max > interval_min):\n",
    "        if interval_min == 1:\n",
    "            primes = [1]\n",
    "        for i in range(interval_min, interval_max):\n",
    "            if  len(factorize(i)) == 2:\n",
    "                primes.append(i)\n",
    "        return sorted(primes)\n",
    "    else:\n",
    "        print('primes_between ONLY computes over the specified range.')\n",
    "        \n",
    "def primes_in(integger_list):\n",
    "    primes = []\n",
    "    try:\n",
    "        for i in (integer_list):\n",
    "            if len(factorize(i)) == 2:\n",
    "                primes.append(i)\n",
    "        return sorted(set(primes))\n",
    "    except TypeError:\n",
    "        print('primes_in ONLY computes over lists of integers.')\n"
   ]
  },
  {
   "cell_type": "code",
   "execution_count": 2,
   "metadata": {
    "collapsed": false
   },
   "outputs": [
    {
     "data": {
      "text/plain": [
       "[1, 2, 13, 26, 41, 82, 533, 1066]"
      ]
     },
     "execution_count": 2,
     "metadata": {},
     "output_type": "execute_result"
    }
   ],
   "source": [
    "factorize(1066)"
   ]
  },
  {
   "cell_type": "code",
   "execution_count": 3,
   "metadata": {
    "collapsed": false
   },
   "outputs": [
    {
     "data": {
      "text/plain": [
       "180"
      ]
     },
     "execution_count": 3,
     "metadata": {},
     "output_type": "execute_result"
    }
   ],
   "source": [
    "len(primes_between(1,1066))"
   ]
  },
  {
   "cell_type": "code",
   "execution_count": 4,
   "metadata": {
    "collapsed": false
   },
   "outputs": [
    {
     "data": {
      "text/plain": [
       "486.2055555555556"
      ]
     },
     "execution_count": 4,
     "metadata": {},
     "output_type": "execute_result"
    }
   ],
   "source": [
    "primes_1066 = primes_between(1,1066)\n",
    "primes_1066_average = sum(primes_1066) / len(primes_1066)\n",
    "primes_1066_average"
   ]
  },
  {
   "cell_type": "code",
   "execution_count": 6,
   "metadata": {
    "collapsed": false
   },
   "outputs": [
    {
     "data": {
      "text/plain": [
       "[3,\n",
       " 13,\n",
       " 23,\n",
       " 43,\n",
       " 53,\n",
       " 73,\n",
       " 83,\n",
       " 103,\n",
       " 113,\n",
       " 163,\n",
       " 173,\n",
       " 193,\n",
       " 223,\n",
       " 233,\n",
       " 263,\n",
       " 283,\n",
       " 293,\n",
       " 313,\n",
       " 353,\n",
       " 373,\n",
       " 383,\n",
       " 433,\n",
       " 443,\n",
       " 463,\n",
       " 503,\n",
       " 523,\n",
       " 563,\n",
       " 593,\n",
       " 613,\n",
       " 643,\n",
       " 653,\n",
       " 673,\n",
       " 683,\n",
       " 733,\n",
       " 743,\n",
       " 773,\n",
       " 823,\n",
       " 853,\n",
       " 863,\n",
       " 883,\n",
       " 953,\n",
       " 983,\n",
       " 1013,\n",
       " 1033,\n",
       " 1063]"
      ]
     },
     "execution_count": 6,
     "metadata": {},
     "output_type": "execute_result"
    }
   ],
   "source": [
    "primes_1066_ends3 = [x for x in primes_between(1,1066) if str(x).endswith('3')]\n",
    "primes_1066_ends3"
   ]
  },
  {
   "cell_type": "code",
   "execution_count": 7,
   "metadata": {
    "collapsed": false
   },
   "outputs": [
    {
     "data": {
      "text/plain": [
       "0.25"
      ]
     },
     "execution_count": 7,
     "metadata": {},
     "output_type": "execute_result"
    }
   ],
   "source": [
    "len(primes_1066_ends3)/len(primes_1066)"
   ]
  },
  {
   "cell_type": "markdown",
   "metadata": {},
   "source": [
    "その他の例題はあとで。"
   ]
  }
 ],
 "metadata": {
  "kernelspec": {
   "display_name": "Python 3",
   "language": "python",
   "name": "python3"
  },
  "language_info": {
   "codemirror_mode": {
    "name": "ipython",
    "version": 3
   },
   "file_extension": ".py",
   "mimetype": "text/x-python",
   "name": "python",
   "nbconvert_exporter": "python",
   "pygments_lexer": "ipython3",
   "version": "3.4.3+"
  }
 },
 "nbformat": 4,
 "nbformat_minor": 1
}
