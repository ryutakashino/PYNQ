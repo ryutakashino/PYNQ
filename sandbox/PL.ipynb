{
 "cells": [
  {
   "cell_type": "markdown",
   "metadata": {},
   "source": [
    "## 参考\n",
    "Document  \n",
    "http://pynq.readthedocs.io/en/latest/pynq.html#module-pynq.pl  \n",
    "下のリンクの方が正にOverlayとpythonのやり取りについて網羅している。  \n",
    "http://todotani.cocolog-nifty.com/blog/2017/01/pynq-z1overlayp.html  \n",
    "xilinx/pynq/pl.pyのコード  \n",
    "http://pynq.readthedocs.io/en/latest/_modules/pynq/pl.html   "
   ]
  },
  {
   "cell_type": "code",
   "execution_count": 1,
   "metadata": {
    "collapsed": true
   },
   "outputs": [],
   "source": [
    "#おそらくこのコードで回路情報を読み込むことができると思われる。\n",
    "#今はデフォルトの回路を再読み込みしているだけ。変化が無いので実際にどうかは分からない。\n",
    "from pynq import Overlay\n",
    "\n",
    "Overlay(\"/home/xilinx/pynq/bitstream/led.bit\").download()"
   ]
  },
  {
   "cell_type": "code",
   "execution_count": 2,
   "metadata": {
    "collapsed": false
   },
   "outputs": [],
   "source": [
    "#上のコードと同じだと思われる。\n",
    "import os\n",
    "\n",
    "with open(\"/home/xilinx/pynq/bitstream/base.bit\", 'rb') as f:\n",
    "    buf = f.read()\n",
    "         \n",
    "        # Set is_partial_bitfile device attribute to 0\n",
    "BS_IS_PARTIAL = \"/sys/devices/soc0/amba/f8007000.devcfg/is_partial_bitstream\"\n",
    "with open(BS_IS_PARTIAL, 'w') as fd:\n",
    "    fd.write('0')\n",
    "         \n",
    "        # Write bitfile to xdevcfg device\n",
    "BS_XDEVCFG = \"/dev/xdevcfg\"\n",
    "with open(BS_XDEVCFG, 'wb') as f:\n",
    "    f.write(buf)"
   ]
  },
  {
   "cell_type": "code",
   "execution_count": 3,
   "metadata": {
    "collapsed": false
   },
   "outputs": [
    {
     "ename": "KeyError",
     "evalue": "'led'",
     "output_type": "error",
     "traceback": [
      "\u001b[0;31m---------------------------------------------------------------------------\u001b[0m",
      "\u001b[0;31mKeyError\u001b[0m                                  Traceback (most recent call last)",
      "\u001b[0;32m<ipython-input-3-b6b0e91390b0>\u001b[0m in \u001b[0;36m<module>\u001b[0;34m()\u001b[0m\n\u001b[1;32m      4\u001b[0m \u001b[0mLEDS_OFFSET0\u001b[0m \u001b[0;34m=\u001b[0m \u001b[0;36m0x8\u001b[0m\u001b[0;34m\u001b[0m\u001b[0m\n\u001b[1;32m      5\u001b[0m \u001b[0mLEDS_OFFSET1\u001b[0m \u001b[0;34m=\u001b[0m \u001b[0;36m0xC\u001b[0m\u001b[0;31m#12\u001b[0m\u001b[0;34m\u001b[0m\u001b[0m\n\u001b[0;32m----> 6\u001b[0;31m \u001b[0mled\u001b[0m \u001b[0;34m=\u001b[0m \u001b[0mMMIO\u001b[0m\u001b[0;34m(\u001b[0m\u001b[0mint\u001b[0m\u001b[0;34m(\u001b[0m\u001b[0mPL\u001b[0m\u001b[0;34m.\u001b[0m\u001b[0mip_dict\u001b[0m\u001b[0;34m[\u001b[0m\u001b[0;34m\"led\"\u001b[0m\u001b[0;34m]\u001b[0m\u001b[0;34m[\u001b[0m\u001b[0;36m0\u001b[0m\u001b[0;34m]\u001b[0m\u001b[0;34m,\u001b[0m\u001b[0;36m16\u001b[0m\u001b[0;34m)\u001b[0m\u001b[0;34m,\u001b[0m\u001b[0;36m16\u001b[0m\u001b[0;34m)\u001b[0m\u001b[0;34m\u001b[0m\u001b[0m\n\u001b[0m\u001b[1;32m      7\u001b[0m \u001b[0mled\u001b[0m\u001b[0;34m.\u001b[0m\u001b[0mwrite\u001b[0m\u001b[0;34m(\u001b[0m\u001b[0mLEDS_OFFSET1\u001b[0m\u001b[0;34m,\u001b[0m \u001b[0;36m0x0\u001b[0m\u001b[0;34m)\u001b[0m\u001b[0;34m\u001b[0m\u001b[0m\n\u001b[1;32m      8\u001b[0m \u001b[0mled\u001b[0m\u001b[0;34m.\u001b[0m\u001b[0mwrite\u001b[0m\u001b[0;34m(\u001b[0m\u001b[0mLEDS_OFFSET0\u001b[0m\u001b[0;34m,\u001b[0m \u001b[0;36m0B0011\u001b[0m\u001b[0;34m)\u001b[0m\u001b[0;34m\u001b[0m\u001b[0m\n",
      "\u001b[0;31mKeyError\u001b[0m: 'led'"
     ]
    }
   ],
   "source": [
    "from pynq import MMIO\n",
    "from pynq import PL\n",
    "\n",
    "LEDS_OFFSET0 = 0x8\n",
    "LEDS_OFFSET1 = 0xC#12\n",
    "led = MMIO(int(PL.ip_dict[\"led\"][0],16),16)\n",
    "led.write(LEDS_OFFSET1, 0x0)\n",
    "led.write(LEDS_OFFSET0, 0B0011) "
   ]
  },
  {
   "cell_type": "code",
   "execution_count": 18,
   "metadata": {
    "collapsed": true
   },
   "outputs": [],
   "source": [
    "# MMIO constants\n",
    "from pynq import Overlay\n",
    "\n",
    "Overlay(\"/home/xilinx/pynq/bitstream/led.bit\").download()\n",
    "MMIO_FILE_NAME = '/dev/mem'#デバイスファイルの場所\n",
    "MMIO_WORD_LENGTH = 4\n",
    "MMIO_WORD_MASK = ~(MMIO_WORD_LENGTH - 1) #-4,歩数\n",
    "#mmio.pyの中ではfrom . import general_constatとして上記の変数を読み込んでいる\n",
    "\n",
    "import os\n",
    "import mmap\n",
    "import struct\n",
    "length = 16\n",
    "base_addr = int('0x41200000',16)\n",
    "virt_base = base_addr & ~(mmap.PAGESIZE - 1)\n",
    "virt_offset = base_addr - virt_base\n",
    "\n",
    "f = os.open(MMIO_FILE_NAME, os.O_RDWR | os.O_SYNC)\n",
    "mem = mmap.mmap(f, (length + virt_offset), \n",
    "                            mmap.MAP_SHARED, \n",
    "                            mmap.PROT_READ | mmap.PROT_WRITE,\n",
    "                            offset = virt_base)\n",
    "mem.seek(0)\n",
    "mem.write_byte(2)"
   ]
  },
  {
   "cell_type": "code",
   "execution_count": 7,
   "metadata": {
    "collapsed": false
   },
   "outputs": [
    {
     "data": {
      "text/plain": [
       "{}"
      ]
     },
     "execution_count": 7,
     "metadata": {},
     "output_type": "execute_result"
    }
   ],
   "source": [
    "from pynq import PL\n",
    "PL.ip_dict"
   ]
  },
  {
   "cell_type": "code",
   "execution_count": 10,
   "metadata": {
    "collapsed": false
   },
   "outputs": [
    {
     "data": {
      "text/plain": [
       "{'SEG_axi_dma_0_Reg': ['0x80400000', '0x00010000', None],\n",
       " 'SEG_axi_dma_0_Reg1': ['0x80410000', '0x00010000', None],\n",
       " 'SEG_axi_dynclk_0_reg0': ['0x43C10000', '0x00010000', None],\n",
       " 'SEG_axi_gpio_video_Reg': ['0x41220000', '0x00010000', None],\n",
       " 'SEG_axi_vdma_0_Reg': ['0x43000000', '0x00010000', None],\n",
       " 'SEG_btns_gpio_Reg': ['0x41210000', '0x00010000', None],\n",
       " 'SEG_d_axi_pdm_1_S_AXI_reg': ['0x43C00000', '0x00010000', None],\n",
       " 'SEG_hdmi_out_hpd_video_Reg': ['0x41230000', '0x00010000', None],\n",
       " 'SEG_mb_bram_ctrl_1_Mem0': ['0x40000000', '0x00010000', None],\n",
       " 'SEG_mb_bram_ctrl_2_Mem0': ['0x42000000', '0x00010000', None],\n",
       " 'SEG_mb_bram_ctrl_3_Mem0': ['0x44000000', '0x00010000', None],\n",
       " 'SEG_rgbled_gpio_Reg': ['0x41240000', '0x00010000', None],\n",
       " 'SEG_swsleds_gpio_Reg': ['0x41200000', '0x00010000', None],\n",
       " 'SEG_trace_cntrl_0_Reg': ['0x83C00000', '0x00010000', None],\n",
       " 'SEG_trace_cntrl_0_Reg2': ['0x83C10000', '0x00010000', None],\n",
       " 'SEG_v_tc_0_Reg': ['0x43C20000', '0x00010000', None],\n",
       " 'SEG_v_tc_1_Reg': ['0x43C30000', '0x00010000', None]}"
      ]
     },
     "execution_count": 10,
     "metadata": {},
     "output_type": "execute_result"
    }
   ],
   "source": [
    "from pynq import Overlay\n",
    "from pynq import PL\n",
    "\n",
    "Overlay(\"/home/xilinx/pynq/bitstream/base.bit\").download()\n",
    "PL.ip_dict"
   ]
  },
  {
   "cell_type": "code",
   "execution_count": null,
   "metadata": {
    "collapsed": true
   },
   "outputs": [],
   "source": []
  }
 ],
 "metadata": {
  "kernelspec": {
   "display_name": "Python 3",
   "language": "python",
   "name": "python3"
  },
  "language_info": {
   "codemirror_mode": {
    "name": "ipython",
    "version": 3
   },
   "file_extension": ".py",
   "mimetype": "text/x-python",
   "name": "python",
   "nbconvert_exporter": "python",
   "pygments_lexer": "ipython3",
   "version": "3.4.3+"
  }
 },
 "nbformat": 4,
 "nbformat_minor": 1
}
