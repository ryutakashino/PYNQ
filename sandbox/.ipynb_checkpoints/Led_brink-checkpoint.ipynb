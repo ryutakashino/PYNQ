{
 "cells": [
  {
   "cell_type": "code",
   "execution_count": 15,
   "metadata": {
    "collapsed": true
   },
   "outputs": [],
   "source": [
    "#点滅　LEDの状態を反転させる動作を０．5ｓ毎に１０回繰り返す。つまり５回点滅。\n",
    "import time\n",
    "from pynq.board import LED\n",
    "\n",
    "led0 = LED(0)\n",
    "for i in range(10):\n",
    "        led0.toggle()\n",
    "        time.sleep(.5)"
   ]
  },
  {
   "cell_type": "code",
   "execution_count": 16,
   "metadata": {
    "collapsed": true
   },
   "outputs": [],
   "source": [
    "from pynq.board import LED\n",
    "led0 = LED(0)\n",
    "led1 = LED(1)\n",
    "led2 = LED(2)\n",
    "led3 = LED(3)\n",
    "\n",
    "led0.on()\n",
    "led1.on()\n",
    "led2.off()\n",
    "led3.off()"
   ]
  },
  {
   "cell_type": "code",
   "execution_count": 17,
   "metadata": {
    "collapsed": false
   },
   "outputs": [],
   "source": [
    "#\"xilinx/pynq/board/led.py\"の中身\n",
    "#\"xilinx/pynq/mmio.py”と\"xilinx/pynq/pl.py\"を使っている\n",
    "#PLが回路の情報を取得する。今回は\"SEG_swsleds_gpio_Reg\"と対応するベースアドレスを取得\n",
    "#MMIOが/dev/memのデバイスファイルを書き換える\n",
    "from pynq import MMIO\n",
    "from pynq import PL\n",
    "\n",
    "LEDS_OFFSET0 = 0x8\n",
    "LEDS_OFFSET1 = 0xC#12\n",
    "led = MMIO(int(PL.ip_dict[\"SEG_swsleds_gpio_Reg\"][0],16),16)\n",
    "led.write(LEDS_OFFSET1, 0x0)\n",
    "led.write(LEDS_OFFSET0, 0B0011) #0B(led4)(led3)(led2)(led1) メモリの特定のアドレスにLEDの状態を書き込む"
   ]
  },
  {
   "cell_type": "code",
   "execution_count": 18,
   "metadata": {
    "collapsed": false
   },
   "outputs": [
    {
     "data": {
      "text/plain": [
       "['0x41200000', '0x00010000', None]"
      ]
     },
     "execution_count": 18,
     "metadata": {},
     "output_type": "execute_result"
    }
   ],
   "source": [
    "#ip_dictは辞書。使用するピンの名前(SEG_swsleds_gpio_Reg)と\n",
    "#対応するメモリの情報(['0x41200000', '0x00010000', None])がセットになっている\n",
    "from pynq import PL\n",
    "PL.ip_dict[\"SEG_swsleds_gpio_Reg\"]"
   ]
  },
  {
   "cell_type": "markdown",
   "metadata": {},
   "source": [
    "以下は\"xilinx/pynq/bitstream/base.tcl\"の一部を並び替えたもの\n",
    "```tcl\n",
    "3136   create_bd_addr_seg -range 0x00010000 -offset 0x41200000 [get_bd_addr_spaces processing     _system7_0/Data] [get_bd_addr_segs swsleds_g     pio/S_AXI/Reg] SEG_swsleds_gpio_Reg\n",
    "...\n",
    "3129   create_bd_addr_seg -range 0x00010000 -offs et 0x41210000 [get_bd_addr_spaces processing     _system7_0/Data] [get_bd_addr_segs btns_gpio     /S_AXI/Reg] SEG_btns_gpio_Reg\n",
    "...\n",
    "3127   create_bd_addr_seg -range 0x00010000 -offset 0x41220000 [get_bd_addr_spaces processing     _system7_0/Data] [get_bd_addr_segs video/axi     _gpio_video/S_AXI/Reg] SEG_axi_gpio_video_Reg\n",
    "...\n",
    "```\n",
    "tclファイルはbitファイルと合わせて生成される。PL回路の情報を含むファイル。"
   ]
  },
  {
   "cell_type": "code",
   "execution_count": 19,
   "metadata": {
    "collapsed": false
   },
   "outputs": [],
   "source": [
    "#　led.write(LEDS_OFFSET0, 0B0011) の中身\n",
    "#以下general_const.pyにて定義されている変数群\n",
    "# MMIO constants\n",
    "MMIO_FILE_NAME = '/dev/mem'#デバイスファイルの場所\n",
    "MMIO_WORD_LENGTH = 4\n",
    "MMIO_WORD_MASK = ~(MMIO_WORD_LENGTH - 1) #-4,歩数\n",
    "#mmio.pyの中ではfrom . import general_constatとして上記の変数を読み込んでいる\n",
    "\n",
    "import os\n",
    "import mmap\n",
    "import struct\n",
    "length = 16\n",
    "base_addr = int('0x41200000',16)\n",
    "virt_base = base_addr & ~(mmap.PAGESIZE - 1)\n",
    "virt_offset = base_addr - virt_base\n",
    "\n",
    "f = os.open(MMIO_FILE_NAME, os.O_RDWR | os.O_SYNC)\n",
    "mem = mmap.mmap(f, (length + virt_offset), \n",
    "                            mmap.MAP_SHARED, \n",
    "                            mmap.PROT_READ | mmap.PROT_WRITE,\n",
    "                            offset = virt_base)\n",
    "offset = 0x8#LEDS_OFFSET0\n",
    "data = 0B0011#0B(led4)(led3)(led2)(led1) LEDの状態\n",
    "mem.seek((virt_offset + offset) & MMIO_WORD_MASK)#Set the file’s current position. \n",
    "mem.write(struct.pack('I', data)) # I:unsigned int\n"
   ]
  },
  {
   "cell_type": "markdown",
   "metadata": {
    "collapsed": false
   },
   "source": [
    ">Linuxでは、/dev/memというスペシャルファイルを経由して、メモリ空間の任意の物理アドレスにアクセスできるからです。...Linuxのメモリ空間は仮想メモリ空間なので、...mmapという関数を使ってマップしてやる必要があります。\n",
    "http://d.hatena.ne.jp/ymko/20130904/p1\n",
    "http://www.mech.tohoku-gakuin.ac.jp/rde/contents/linux/drivers/nodriver.html"
   ]
  },
  {
   "cell_type": "markdown",
   "metadata": {
    "collapsed": true
   },
   "source": [
    ">FPGAの制御（FPGAのレジスタへの書き込み）はmmio.pyのMMIOクラスを使って、/dev/memデバイスファイル経由でメモリー空間にマップされたFPGAのレジスタにアクセスしているようです。Pythonのコードは以下になります。 \n",
    "http://todotani.cocolog-nifty.com/blog/2017/01/pynq-z1overlayp.html"
   ]
  },
  {
   "cell_type": "markdown",
   "metadata": {
    "collapsed": true
   },
   "source": [
    ">What is an overlay? The overlay is a design that’s loaded into the Zynq SoC’s programmable logic (PL). The overlay can be designed to accelerate a function in the programmable logic or provide an interfacing capability using the PL. In short, overlays give Pynq its, unique capabilities.\n",
    " \n",
    ">What is important to understand about the overlay is that** there is not a Python-to-PL high-level synthesis process involved.** Instead, we develop the overlay using one of the standard Xilinx design methodologies (SDSoC, Vivado, or Vivado HLS). Once we’ve created the bit file for the overlay, we then integrate it within the Pynq architecture and establish the required parameters to communicate with it using Python.\n",
    "\n",
    ">Like all things with the Zynq SoC that we have looked at to date, this is very simple. We can easily integrate with the Python environment using the bit file and other files provided with the Vivado build.** We do this with the Python MMIO class, which allows us to interact with designs in the PL through memory-mapped reads and writes. ** The memory map of the current overlay in the PL is all we need. Of course, we can change the contents of the PL on the fly as our application requires to accelerate functions in the PL.\n",
    "\n",
    "https://forums.xilinx.com/t5/Xcell-Daily-Blog/Adam-Taylor-s-MicroZed-Chronicles-Part-156-Pynq-Hardware/ba-p/732835"
   ]
  }
 ],
 "metadata": {
  "kernelspec": {
   "display_name": "Python 3",
   "language": "python",
   "name": "python3"
  },
  "language_info": {
   "codemirror_mode": {
    "name": "ipython",
    "version": 3
   },
   "file_extension": ".py",
   "mimetype": "text/x-python",
   "name": "python",
   "nbconvert_exporter": "python",
   "pygments_lexer": "ipython3",
   "version": "3.4.3+"
  }
 },
 "nbformat": 4,
 "nbformat_minor": 1
}
