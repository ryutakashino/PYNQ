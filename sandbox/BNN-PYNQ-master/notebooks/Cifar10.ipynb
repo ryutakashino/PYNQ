{
 "cells": [
  {
   "cell_type": "markdown",
   "metadata": {
    "deletable": true,
    "editable": true
   },
   "source": [
    "# BNN on Pynq\n",
    "\n",
    "This notebook covers how to use Binary Neural Networks on Pynq. \n",
    "It shows an example of image recognition with a binarized neural inspired at VGG-16, featuring 6 convolutional layers, 3 Max Pool layers and 3 Fully connected layers\n",
    "\n",
    "## 1. Instantiate a Classifier\n",
    "\n",
    "Creating a classifier will automatically download the correct bitstream onto the device and load the weights trained on the specified dataset. By default there are three sets of weights to choose from - this example uses the CIFAR10 set."
   ]
  },
  {
   "cell_type": "code",
   "execution_count": null,
   "metadata": {
    "collapsed": false,
    "deletable": true,
    "editable": true
   },
   "outputs": [],
   "source": [
    "import bnn\n",
    "print(bnn.available_params(bnn.NETWORK_CNV))\n",
    "\n",
    "classifier = bnn.CnvClassifier('cifar10')"
   ]
  },
  {
   "cell_type": "markdown",
   "metadata": {
    "deletable": true,
    "editable": true
   },
   "source": [
    "# 2. List the available classes\n",
    "The CIFAR10 dataset has 10 classes of images, the names of which are accessible through the classifier."
   ]
  },
  {
   "cell_type": "code",
   "execution_count": null,
   "metadata": {
    "collapsed": false,
    "deletable": true,
    "editable": true
   },
   "outputs": [],
   "source": [
    "print(classifier.bnn.classes)"
   ]
  },
  {
   "cell_type": "markdown",
   "metadata": {
    "deletable": true,
    "editable": true
   },
   "source": [
    "# 3. Open image to be classified\n",
    "Download a JPEG image of a car and place it in the home directory for the xilinx user. The image can then be loaded and displayed through the notebook"
   ]
  },
  {
   "cell_type": "code",
   "execution_count": null,
   "metadata": {
    "collapsed": false,
    "deletable": true,
    "editable": true
   },
   "outputs": [],
   "source": [
    "from PIL import Image\n",
    "import numpy as np\n",
    "\n",
    "im = Image.open('/home/xilinx/jupyter_notebooks/bnn/deer.jpg')\n",
    "im "
   ]
  },
  {
   "cell_type": "markdown",
   "metadata": {
    "deletable": true,
    "editable": true
   },
   "source": [
    "# 4. Launching BNN in hardware\n",
    "The image is passed into the PL and the inference is performed. The Python API takes care of resizing the image to that required by the network and transferring the image between hardware and software."
   ]
  },
  {
   "cell_type": "code",
   "execution_count": null,
   "metadata": {
    "collapsed": false,
    "deletable": true,
    "editable": true
   },
   "outputs": [],
   "source": [
    "class_out=classifier.classify_image(im)\n",
    "print(\"Class number: {0}\".format(class_out))\n",
    "print(\"Class name: {0}\".format(classifier.class_name(class_out)))"
   ]
  },
  {
   "cell_type": "markdown",
   "metadata": {
    "deletable": true,
    "editable": true
   },
   "source": [
    "# 5. Launching BNN in software\n",
    "As a comparision, the same image can be classified using a software implementation of the algorithm by passing the RUNTIME_SW parameter to the ImageClassifier"
   ]
  },
  {
   "cell_type": "code",
   "execution_count": null,
   "metadata": {
    "collapsed": false,
    "deletable": true,
    "editable": true
   },
   "outputs": [],
   "source": [
    "sw_class = bnn.CnvClassifier(\"cifar10\", bnn.RUNTIME_SW)\n",
    "\n",
    "class_out = sw_class.classify_image(im)\n",
    "print(\"Class number: {0}\".format(class_out))\n",
    "print(\"Class name: {0}\".format(classifier.class_name(class_out)))"
   ]
  },
  {
   "cell_type": "markdown",
   "metadata": {
    "deletable": true,
    "editable": true
   },
   "source": [
    "As can be seen, the software implementation is several orders of magnitude slower than the hardware implementation.\n",
    "\n",
    "# 6. Detailed Classification Information\n",
    "\n",
    "In addition to highest ranked class, it is possible to get the rank of every class using the `classify_details` function. To run this example, take another couple of images of an airplane and a dog and place them in the home directory."
   ]
  },
  {
   "cell_type": "code",
   "execution_count": null,
   "metadata": {
    "collapsed": false,
    "deletable": true,
    "editable": true
   },
   "outputs": [],
   "source": [
    "from IPython.display import display\n",
    "\n",
    "im = Image.open('/home/xilinx/jupyter_notebooks/bnn/car.png')\n",
    "im.thumbnail((64, 64), Image.ANTIALIAS)\n",
    "display(im) \n",
    "car_class = classifier.classify_details(im)\n",
    "print(\"Car classes: {0}\".format(car_class))\n",
    "\n",
    "im = Image.open('/home/xilinx/jupyter_notebooks/bnn/airplane.jpg')\n",
    "im.thumbnail((64, 64), Image.ANTIALIAS)\n",
    "display(im) \n",
    "air_class = classifier.classify_details(im)\n",
    "print(\"Airplane classes: {0}\".format(air_class))\n",
    "\n",
    "im = Image.open('/home/xilinx/jupyter_notebooks/bnn/bird.jpg')\n",
    "im.thumbnail((64, 64), Image.ANTIALIAS)\n",
    "display(im) \n",
    "dog_class = classifier.classify_details(im)\n",
    "print(\"Dog classes: {0}\".format(dog_class))"
   ]
  },
  {
   "cell_type": "markdown",
   "metadata": {
    "deletable": true,
    "editable": true
   },
   "source": [
    "The numbers can be difficult to visualise so we can use matplotlib to graph the output."
   ]
  },
  {
   "cell_type": "code",
   "execution_count": null,
   "metadata": {
    "collapsed": false,
    "deletable": true,
    "editable": true
   },
   "outputs": [],
   "source": [
    "%matplotlib inline\n",
    "import matplotlib.pyplot as plt\n",
    "\n",
    "x_pos = np.arange(len(car_class))\n",
    "fig, ax = plt.subplots()\n",
    "ax.bar(x_pos - 0.25, (car_class/255)-1, 0.25)\n",
    "ax.bar(x_pos, (air_class/255)-1, 0.3)\n",
    "ax.bar(x_pos + 0.25, (dog_class/255)-1, 0.25)\n",
    "ax.set_xticklabels(classifier.bnn.classes, rotation='vertical')\n",
    "ax.set_xticks(x_pos)\n",
    "ax.set\n",
    "plt.show()"
   ]
  },
  {
   "cell_type": "markdown",
   "metadata": {
    "deletable": true,
    "editable": true
   },
   "source": [
    "# Classifying multiple images\n",
    "\n",
    "This example is going to create a string of images from a single input image, tiling the image to try and locate an object. This image is a somewhat empty looking motorway and the aim is to find the cars."
   ]
  },
  {
   "cell_type": "code",
   "execution_count": null,
   "metadata": {
    "collapsed": false,
    "deletable": true,
    "editable": true
   },
   "outputs": [],
   "source": [
    "im = Image.open('/home/xilinx/jupyter_notebooks/bnn/motorway.jpg')\n",
    "im"
   ]
  },
  {
   "cell_type": "markdown",
   "metadata": {
    "deletable": true,
    "editable": true
   },
   "source": [
    "First task is to create a set of image tiles from large image to search. Different scales allow the network to check for different sized cars."
   ]
  },
  {
   "cell_type": "code",
   "execution_count": null,
   "metadata": {
    "collapsed": false,
    "deletable": true,
    "editable": true
   },
   "outputs": [],
   "source": [
    "images = []\n",
    "bounds = []\n",
    "for s in [64]:\n",
    "    stride =  s // 2\n",
    "    x_tiles = im.width // stride\n",
    "    y_tiles = im.height // stride\n",
    "    \n",
    "    for j in range(y_tiles):\n",
    "        for i in range(x_tiles):\n",
    "            bound = (stride * i, stride * j, stride * i + s, stride * j + s)\n",
    "            if bound[2] <= im.width and bound[3] < im.height:\n",
    "                c = im.crop(bound)\n",
    "                images.append(c)\n",
    "                bounds.append(bound)\n",
    "\n",
    "print(len(images))"
   ]
  },
  {
   "cell_type": "markdown",
   "metadata": {
    "deletable": true,
    "editable": true
   },
   "source": [
    "Next the set of images are passed through the classifier. Note how the rate of images is 3 times greater than for single image classification. Once the classes are returned, numpy can quickly find all of the indicies of tiles which have matched as cars."
   ]
  },
  {
   "cell_type": "code",
   "execution_count": null,
   "metadata": {
    "collapsed": false,
    "deletable": true,
    "editable": true
   },
   "outputs": [],
   "source": [
    "results = classifier.classify_images(images)\n",
    "cars = results == 1\n",
    "indicies = cars.nonzero()[0]"
   ]
  },
  {
   "cell_type": "markdown",
   "metadata": {
    "deletable": true,
    "editable": true
   },
   "source": [
    "To visualise the output we can draw the bounds of each matched rectangle on the original image."
   ]
  },
  {
   "cell_type": "code",
   "execution_count": null,
   "metadata": {
    "collapsed": false,
    "deletable": true,
    "editable": true
   },
   "outputs": [],
   "source": [
    "from PIL import ImageDraw\n",
    "\n",
    "draw = ImageDraw.Draw(im)\n",
    "for i in indicies:\n",
    "    draw.rectangle(bounds[i], outline='red')\n",
    "\n",
    "im"
   ]
  },
  {
   "cell_type": "markdown",
   "metadata": {
    "deletable": true,
    "editable": true
   },
   "source": [
    "## Reseting the device"
   ]
  },
  {
   "cell_type": "code",
   "execution_count": null,
   "metadata": {
    "collapsed": false,
    "deletable": true,
    "editable": true
   },
   "outputs": [],
   "source": [
    "from pynq import Xlnk\n",
    "\n",
    "xlnk = Xlnk();\n",
    "xlnk.xlnk_reset()"
   ]
  },
  {
   "cell_type": "code",
   "execution_count": null,
   "metadata": {
    "collapsed": true,
    "deletable": true,
    "editable": true
   },
   "outputs": [],
   "source": []
  }
 ],
 "metadata": {
  "kernelspec": {
   "display_name": "Python 3",
   "language": "python",
   "name": "python3"
  },
  "language_info": {
   "codemirror_mode": {
    "name": "ipython",
    "version": 3
   },
   "file_extension": ".py",
   "mimetype": "text/x-python",
   "name": "python",
   "nbconvert_exporter": "python",
   "pygments_lexer": "ipython3",
   "version": "3.4.3+"
  }
 },
 "nbformat": 4,
 "nbformat_minor": 1
}
