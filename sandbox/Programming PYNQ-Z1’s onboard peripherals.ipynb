{
 "cells": [
  {
   "cell_type": "code",
   "execution_count": 1,
   "metadata": {
    "collapsed": true
   },
   "outputs": [],
   "source": [
    "from pynq import Overlay\n",
    "from pynq.board import LED\n",
    "from pynq.board import RGBLED\n",
    "from pynq.board import Switch\n",
    "from pynq.board import Button\n",
    "\n",
    "Overlay(\"base.bit\").download()"
   ]
  },
  {
   "cell_type": "code",
   "execution_count": 2,
   "metadata": {
    "collapsed": true
   },
   "outputs": [],
   "source": [
    "led0 = LED(0)"
   ]
  },
  {
   "cell_type": "code",
   "execution_count": 3,
   "metadata": {
    "collapsed": true
   },
   "outputs": [],
   "source": [
    "led0.on()"
   ]
  },
  {
   "cell_type": "code",
   "execution_count": 4,
   "metadata": {
    "collapsed": true
   },
   "outputs": [],
   "source": [
    "led0.off()"
   ]
  },
  {
   "cell_type": "code",
   "execution_count": 5,
   "metadata": {
    "collapsed": true
   },
   "outputs": [],
   "source": [
    "import time\n",
    "from pynq.board import LED\n",
    "from pynq.board import Button\n",
    "\n",
    "led0 = LED(0)\n",
    "for i in range(20):\n",
    "    led0.toggle()\n",
    "    time.sleep(.5)"
   ]
  },
  {
   "cell_type": "code",
   "execution_count": 6,
   "metadata": {
    "collapsed": false
   },
   "outputs": [],
   "source": [
    "MAX_LEDS = 4\n",
    "MAX_SWITCHES = 2\n",
    "MAX_BUTTONS = 4\n",
    "\n",
    "leds = [0] * MAX_LEDS\n",
    "switches = [0] * MAX_SWITCHES\n",
    "buttons = [0] * MAX_BUTTONS\n",
    "\n",
    "for i in range(MAX_LEDS):\n",
    "    leds[i] = LED(i)\n",
    "for i in range(MAX_SWITCHES):\n",
    "    switches[i] = Switch(i)\n",
    "for i in range(MAX_BUTTONS):\n",
    "    buttons[i] = Button(i)"
   ]
  },
  {
   "cell_type": "code",
   "execution_count": 7,
   "metadata": {
    "collapsed": false
   },
   "outputs": [],
   "source": [
    "def clear_LEDs(LED_nos = list(range(MAX_LEDS))):\n",
    "    for i in LED_nos:\n",
    "        leds[i].off()\n",
    "clear_LEDs()\n",
    "    "
   ]
  },
  {
   "cell_type": "code",
   "execution_count": 8,
   "metadata": {
    "collapsed": false
   },
   "outputs": [],
   "source": [
    "clear_LEDs()\n",
    "\n",
    "for i in range(MAX_LEDS):\n",
    "    if switches[i%2].read():\n",
    "        leds[i].on()\n",
    "    else:\n",
    "        leds[i].off()"
   ]
  },
  {
   "cell_type": "markdown",
   "metadata": {},
   "source": [
    "while trueとかで任意のタイミングでLEDをスイッチですることは操作は出来ないのだろうか。"
   ]
  },
  {
   "cell_type": "code",
   "execution_count": 9,
   "metadata": {
    "collapsed": true
   },
   "outputs": [],
   "source": [
    "import time\n",
    "\n",
    "clear_LEDs()\n",
    "\n",
    "while switches[0].read():\n",
    "    for i in range(MAX_LEDS):\n",
    "        if buttons[i].read():\n",
    "            leds[i].toggle()\n",
    "            time.sleep(.1)\n",
    "            \n",
    "clear_LEDs()"
   ]
  },
  {
   "cell_type": "markdown",
   "metadata": {},
   "source": [
    "なるほど。SW1がONのときはずっとwhileループ内を実行するのか。"
   ]
  }
 ],
 "metadata": {
  "kernelspec": {
   "display_name": "Python 3",
   "language": "python",
   "name": "python3"
  },
  "language_info": {
   "codemirror_mode": {
    "name": "ipython",
    "version": 3
   },
   "file_extension": ".py",
   "mimetype": "text/x-python",
   "name": "python",
   "nbconvert_exporter": "python",
   "pygments_lexer": "ipython3",
   "version": "3.4.3+"
  }
 },
 "nbformat": 4,
 "nbformat_minor": 1
}
