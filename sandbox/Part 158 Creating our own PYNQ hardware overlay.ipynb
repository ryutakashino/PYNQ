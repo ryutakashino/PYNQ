{
 "cells": [
  {
   "cell_type": "markdown",
   "metadata": {},
   "source": [
    "Adam Taylor’s MicroZed Chronicles Part 158: Creating our own PYNQ hardware overlay\n",
    "https://forums.xilinx.com/t5/Xcell-Daily-Blog/Adam-Taylor-s-MicroZed-Chronicles-Part-158-Creating-our-own-PYNQ/ba-p/735388\n",
    "パクリ。自分でやろうとしても上手く行かずイライラ。３０分立ってインプリメンテーションエラーとか出やがる。\n",
    "ああああ"
   ]
  },
  {
   "cell_type": "code",
   "execution_count": 3,
   "metadata": {
    "collapsed": false
   },
   "outputs": [
    {
     "data": {
      "text/plain": [
       "True"
      ]
     },
     "execution_count": 3,
     "metadata": {},
     "output_type": "execute_result"
    }
   ],
   "source": [
    "from pynq import Overlay\n",
    "ol = Overlay(\"/home/xilinx/pynq/bitstream/top.bit\")\n",
    "ol.download()\n",
    "ol.bitstream.timestamp\n",
    "\n",
    "from pynq import PL\n",
    "PL.bitfile_name\n",
    "ol.is_loaded()"
   ]
  },
  {
   "cell_type": "code",
   "execution_count": 4,
   "metadata": {
    "collapsed": false
   },
   "outputs": [],
   "source": [
    "from pynq import MMIO\n",
    "\n",
    "class part158:\n",
    "\n",
    "    mmio = MMIO(0x46000000,0x00002000)\n",
    "    array_length = 0\n",
    "\n",
    "    def __init__(self):\n",
    "        self.mmio.write(0,0)\n",
    "        \n",
    "    def load_data(self, raw_data):\n",
    "        self.array_length = len(raw_data)\n",
    "        for i in range(0, self.array_length):\n",
    "            self.mmio.write(i*4, raw_data[i])\n",
    "            \n",
    "    def read_data(self):\n",
    "        processed_data = [0]*self.array_length    \n",
    "        for i in range(0, self.array_length):\n",
    "            processed_data[i] = self.mmio.read(i*4)\n",
    "        return processed_data"
   ]
  },
  {
   "cell_type": "code",
   "execution_count": 5,
   "metadata": {
    "collapsed": false
   },
   "outputs": [
    {
     "name": "stdout",
     "output_type": "stream",
     "text": [
      "Input Data          :  [1, 2, 3, 4, 5, 6, 7, 8, 9, 10, 11, 12, 13, 14, 15, 16, 17, 18, 19, 20]\n",
      "Processed Data :  [1, 2, 3, 4, 5, 6, 7, 8, 9, 10, 11, 12, 13, 14, 15, 16, 17, 18, 19, 20]\n",
      "Input Data        :  [32050, 19380, 5011, 12113, 24968, 22699, 4699, 23753, 9435, 31654, 18701, 4890, 9498, 19108, 2395, 633, 9058, 24959, 6812, 9688]\n",
      "Processed Data:  [32050, 19380, 5011, 12113, 24968, 22699, 4699, 23753, 9435, 31654, 18701, 4890, 9498, 19108, 2395, 633, 9058, 24959, 6812, 9688]\n"
     ]
    }
   ],
   "source": [
    "# declare acc with a Macimum alloxable array size\n",
    "acc = part158()\n",
    "raw_data = [1,2,3,4,5,6,7,8,9,10,11,12,13,14,15,16,17,18,19,20]\n",
    "#print(\"Some data to be sent to the accelerator:\" , raw_data)\n",
    "acc.load_data(raw_data)\n",
    "processed_data = acc.read_data()\n",
    "print(\"Input Data          : \", raw_data)\n",
    "print(\"Processed Data : \", processed_data)\n",
    "\n",
    "import random\n",
    "array_length = len(raw_data)\n",
    "for i in range(0, array_length):\n",
    "    raw_data[i] = random.randint(0,32767)\n",
    "acc.load_data(raw_data)\n",
    "processed_data = acc.read_data()\n",
    "print(\"Input Data        : \", raw_data)\n",
    "print(\"Processed Data: \", processed_data)\n"
   ]
  },
  {
   "cell_type": "markdown",
   "metadata": {},
   "source": [
    "なんか上手く行った。よくわからん。実によくわからん。ああああ。ああああ。\n",
    "じぶんでやってないからよくわからん。"
   ]
  },
  {
   "cell_type": "code",
   "execution_count": 6,
   "metadata": {
    "collapsed": false
   },
   "outputs": [],
   "source": [
    "from pynq.board import LED\n",
    "led0 = LED(0)\n",
    "led0.off()"
   ]
  },
  {
   "cell_type": "code",
   "execution_count": null,
   "metadata": {
    "collapsed": true
   },
   "outputs": [],
   "source": []
  }
 ],
 "metadata": {
  "kernelspec": {
   "display_name": "Python 3",
   "language": "python",
   "name": "python3"
  },
  "language_info": {
   "codemirror_mode": {
    "name": "ipython",
    "version": 3
   },
   "file_extension": ".py",
   "mimetype": "text/x-python",
   "name": "python",
   "nbconvert_exporter": "python",
   "pygments_lexer": "ipython3",
   "version": "3.4.3+"
  }
 },
 "nbformat": 4,
 "nbformat_minor": 1
}
